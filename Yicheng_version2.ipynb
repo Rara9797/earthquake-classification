{
  "cells": [
    {
      "cell_type": "markdown",
      "metadata": {
        "id": "HGFHGyPTdxja"
      },
      "source": [
        "\n",
        "## Yicheng May 2023"
      ]
    },
    {
      "cell_type": "markdown",
      "metadata": {
        "id": "bXnGDWEZdxjc"
      },
      "source": [
        "Import libraries, define filenames and folder paths:"
      ]
    },
    {
      "cell_type": "code",
      "source": [
        "from google.colab import drive\n",
        "drive.mount('/content/drive')\n",
        "%cd \"/content/drive/MyDrive\""
      ],
      "metadata": {
        "colab": {
          "base_uri": "https://localhost:8080/"
        },
        "id": "l-Mdtfjxyp09",
        "outputId": "e9a2aec1-f85a-40e1-fafe-c9f3f7e58022"
      },
      "execution_count": null,
      "outputs": [
        {
          "output_type": "stream",
          "name": "stdout",
          "text": [
            "Drive already mounted at /content/drive; to attempt to forcibly remount, call drive.mount(\"/content/drive\", force_remount=True).\n",
            "/content/drive/MyDrive\n"
          ]
        }
      ]
    },
    {
      "cell_type": "code",
      "source": [
        "import h5py\n",
        "file_path = \"ev0000364000.h5\""
      ],
      "metadata": {
        "id": "DMLTleFuypq9"
      },
      "execution_count": null,
      "outputs": []
    },
    {
      "cell_type": "code",
      "source": [
        "# Open the file\n",
        "f = h5py.File(file_path, 'r')\n",
        "f"
      ],
      "metadata": {
        "colab": {
          "base_uri": "https://localhost:8080/"
        },
        "id": "fljNt9VBypid",
        "outputId": "1eb827d6-17da-47f6-f709-47be2816148c"
      },
      "execution_count": null,
      "outputs": [
        {
          "output_type": "execute_result",
          "data": {
            "text/plain": [
              "<HDF5 file \"ev0000364000.h5\" (mode r)>"
            ]
          },
          "metadata": {},
          "execution_count": 3
        }
      ]
    },
    {
      "cell_type": "code",
      "source": [
        "# List all the attributes for the file\n",
        "list(f.attrs.keys())"
      ],
      "metadata": {
        "colab": {
          "base_uri": "https://localhost:8080/"
        },
        "id": "5M4_XJ5BypcW",
        "outputId": "6dc75239-f519-4f6a-f004-44fc14ca1998"
      },
      "execution_count": null,
      "outputs": [
        {
          "output_type": "execute_result",
          "data": {
            "text/plain": [
              "['ele', 'lat', 'lon', 'mag', 'time']"
            ]
          },
          "metadata": {},
          "execution_count": 4
        }
      ]
    },
    {
      "cell_type": "code",
      "source": [
        "# List of the stations\n",
        "list(f.keys())"
      ],
      "metadata": {
        "colab": {
          "base_uri": "https://localhost:8080/"
        },
        "id": "_MmRHi-BypQm",
        "outputId": "464c8335-c671-44ae-ef25-d36d570348cb"
      },
      "execution_count": null,
      "outputs": [
        {
          "output_type": "execute_result",
          "data": {
            "text/plain": [
              "['IWEH', 'KI2H', 'MKJH', 'NMEH']"
            ]
          },
          "metadata": {},
          "execution_count": 5
        }
      ]
    },
    {
      "cell_type": "code",
      "source": [
        "# Shape of the data for a station\n",
        "dset = f['IWEH']\n",
        "dset.shape"
      ],
      "metadata": {
        "colab": {
          "base_uri": "https://localhost:8080/"
        },
        "id": "hu83eZhw2AjJ",
        "outputId": "8e8f5e01-071f-42d4-d570-44df0f69567e"
      },
      "execution_count": null,
      "outputs": [
        {
          "output_type": "execute_result",
          "data": {
            "text/plain": [
              "(3, 270000000)"
            ]
          },
          "metadata": {},
          "execution_count": 6
        }
      ]
    },
    {
      "cell_type": "code",
      "source": [
        "dset.shape[1]/(100*60*60*24)"
      ],
      "metadata": {
        "colab": {
          "base_uri": "https://localhost:8080/"
        },
        "id": "jIAQ2H4h2AgY",
        "outputId": "f00fb05c-0aed-43e4-cb83-922efc5290e4"
      },
      "execution_count": null,
      "outputs": [
        {
          "output_type": "execute_result",
          "data": {
            "text/plain": [
              "31.25"
            ]
          },
          "metadata": {},
          "execution_count": 7
        }
      ]
    },
    {
      "cell_type": "code",
      "source": [
        "# List of attributes for the station\n",
        "list(dset.attrs.keys())"
      ],
      "metadata": {
        "colab": {
          "base_uri": "https://localhost:8080/"
        },
        "id": "x-AUWHEn2AYe",
        "outputId": "94450afe-4b47-41cd-fcc4-e6268a925a57"
      },
      "execution_count": null,
      "outputs": [
        {
          "output_type": "execute_result",
          "data": {
            "text/plain": [
              "['dist_m', 'ele', 'lat', 'lon']"
            ]
          },
          "metadata": {},
          "execution_count": 8
        }
      ]
    },
    {
      "cell_type": "code",
      "source": [
        "# Access the distance in meters of the station from the event\n",
        "print(dset.attrs['dist_m'],\n",
        "dset.attrs['ele'],\n",
        "dset.attrs['lat'],\n",
        "dset.attrs['lon'])"
      ],
      "metadata": {
        "colab": {
          "base_uri": "https://localhost:8080/"
        },
        "id": "ofy-qROo2AVt",
        "outputId": "aa6daafc-0e9a-4b64-8aa1-a2abd638f6fa"
      },
      "execution_count": null,
      "outputs": [
        {
          "output_type": "stream",
          "name": "stdout",
          "text": [
            "0120189 -145 37.0264 140.9702\n"
          ]
        }
      ]
    },
    {
      "cell_type": "code",
      "source": [
        "# Find the distance for all the stations\n",
        "for k in f.keys():\n",
        "    print(k,f[k].attrs['dist_m'])"
      ],
      "metadata": {
        "colab": {
          "base_uri": "https://localhost:8080/"
        },
        "id": "vBSDuDWX2ATB",
        "outputId": "8934b472-75a7-41a1-d783-d6197557a156"
      },
      "execution_count": null,
      "outputs": [
        {
          "output_type": "stream",
          "name": "stdout",
          "text": [
            "IWEH 0120189\n",
            "KI2H 0149570\n",
            "MKJH 0149240\n",
            "NMEH 0128023\n"
          ]
        }
      ]
    },
    {
      "cell_type": "code",
      "source": [
        "# Extract a portion of the data from numerous stations\n",
        "\n",
        "import numpy as np\n",
        "\n",
        "# List of stations to consider\n",
        "stations_list = ['IWEH', 'KI2H', 'MKJH','NMEH']\n",
        "\n",
        "# Start and end index values for the portion of data to extract\n",
        "# 24*3600*100 is 24 hours of data at 100 Hzone day of data.\n",
        "# this example outputs firt hour of second day:\n",
        "start = 24*3600*100\n",
        "end = 25*3600*100\n",
        "\n",
        "# Number of channels\n",
        "num_channels = 3\n",
        "\n",
        "# Allocate the space to save the extracted data\n",
        "data = np.empty((len(stations_list),num_channels,end-start,))\n",
        "\n",
        "for i in range(len(stations_list)):\n",
        "    data[i,0:num_channels,:] = f[stations_list[i]][0:num_channels,start:end]\n",
        "\n",
        "print(data.shape)"
      ],
      "metadata": {
        "colab": {
          "base_uri": "https://localhost:8080/"
        },
        "id": "X3E2iBoq2AQN",
        "outputId": "5823d473-b1e6-4fcf-8024-6badfdabb97e"
      },
      "execution_count": null,
      "outputs": [
        {
          "output_type": "stream",
          "name": "stdout",
          "text": [
            "(4, 3, 360000)\n"
          ]
        }
      ]
    },
    {
      "cell_type": "code",
      "source": [
        "# Save the extracted data to file\n",
        "np.save('data1.npy', data)"
      ],
      "metadata": {
        "id": "dtzMw0Zc2ANO"
      },
      "execution_count": null,
      "outputs": []
    },
    {
      "cell_type": "code",
      "source": [
        "# Use 5 seconds time window as cutoff for the first station and first channel\n",
        "\n",
        "datadivided = list()\n",
        "for i in range(720):#360000/100/5\n",
        "    datadivided.append(data[0,0,500*i:500*(i+1)])\n"
      ],
      "metadata": {
        "id": "f-eH8vrl4RS_"
      },
      "execution_count": null,
      "outputs": []
    },
    {
      "cell_type": "code",
      "source": [
        "datadivided[666].shape"
      ],
      "metadata": {
        "colab": {
          "base_uri": "https://localhost:8080/"
        },
        "id": "9cqU51FDvLiq",
        "outputId": "11c1b1f3-6acb-4081-f9d9-e586ddbd4582"
      },
      "execution_count": null,
      "outputs": [
        {
          "output_type": "execute_result",
          "data": {
            "text/plain": [
              "(500,)"
            ]
          },
          "metadata": {},
          "execution_count": 14
        }
      ]
    },
    {
      "cell_type": "code",
      "source": [
        "%matplotlib inline\n",
        "from matplotlib import pyplot as plt"
      ],
      "metadata": {
        "id": "gJUoDd612AKN"
      },
      "execution_count": null,
      "outputs": []
    },
    {
      "cell_type": "code",
      "source": [
        "%matplotlib inline\n",
        "fig,ax=plt.subplots(3)\n",
        "ax[0].plot(datadivided[0],'k-')\n",
        "ax[1].plot(datadivided[1],'k-')\n",
        "ax[2].plot(datadivided[2],'k-')"
      ],
      "metadata": {
        "colab": {
          "base_uri": "https://localhost:8080/",
          "height": 447
        },
        "id": "Xsjkb16y2AHF",
        "outputId": "52282c3d-2b33-447c-ae19-c645ba5df9e8"
      },
      "execution_count": null,
      "outputs": [
        {
          "output_type": "execute_result",
          "data": {
            "text/plain": [
              "[<matplotlib.lines.Line2D at 0x7fd531ff2d70>]"
            ]
          },
          "metadata": {},
          "execution_count": 16
        },
        {
          "output_type": "display_data",
          "data": {
            "text/plain": [
              "<Figure size 640x480 with 3 Axes>"
            ],
            "image/png": "[encoded data removed]"
          },
          "metadata": {}
        }
      ]
    },
    {
      "cell_type": "markdown",
      "metadata": {
        "id": "NHF-Q5Ttdxje"
      },
      "source": [
        "Use obspy library to apply 1HZ high-pass filter"
      ]
    },
    {
      "cell_type": "code",
      "source": [
        "pip install obspy"
      ],
      "metadata": {
        "colab": {
          "base_uri": "https://localhost:8080/"
        },
        "id": "E_UMh-xkuYAN",
        "outputId": "df2a355e-215d-49da-d97e-e0ed2c5e70d8"
      },
      "execution_count": null,
      "outputs": [
        {
          "output_type": "stream",
          "name": "stdout",
          "text": [
            "Looking in indexes: https://pypi.org/simple, https://us-python.pkg.dev/colab-wheels/public/simple/\n",
            "Requirement already satisfied: obspy in /usr/local/lib/python3.10/dist-packages (1.4.0)\n",
            "Requirement already satisfied: numpy>=1.20 in /usr/local/lib/python3.10/dist-packages (from obspy) (1.22.4)\n",
            "Requirement already satisfied: scipy>=1.7 in /usr/local/lib/python3.10/dist-packages (from obspy) (1.10.1)\n",
            "Requirement already satisfied: matplotlib>=3.3 in /usr/local/lib/python3.10/dist-packages (from obspy) (3.7.1)\n",
            "Requirement already satisfied: lxml in /usr/local/lib/python3.10/dist-packages (from obspy) (4.9.2)\n",
            "Requirement already satisfied: setuptools in /usr/local/lib/python3.10/dist-packages (from obspy) (67.7.2)\n",
            "Requirement already satisfied: sqlalchemy in /usr/local/lib/python3.10/dist-packages (from obspy) (2.0.10)\n",
            "Requirement already satisfied: decorator in /usr/local/lib/python3.10/dist-packages (from obspy) (4.4.2)\n",
            "Requirement already satisfied: requests in /usr/local/lib/python3.10/dist-packages (from obspy) (2.27.1)\n",
            "Requirement already satisfied: contourpy>=1.0.1 in /usr/local/lib/python3.10/dist-packages (from matplotlib>=3.3->obspy) (1.0.7)\n",
            "Requirement already satisfied: cycler>=0.10 in /usr/local/lib/python3.10/dist-packages (from matplotlib>=3.3->obspy) (0.11.0)\n",
            "Requirement already satisfied: fonttools>=4.22.0 in /usr/local/lib/python3.10/dist-packages (from matplotlib>=3.3->obspy) (4.39.3)\n",
            "Requirement already satisfied: kiwisolver>=1.0.1 in /usr/local/lib/python3.10/dist-packages (from matplotlib>=3.3->obspy) (1.4.4)\n",
            "Requirement already satisfied: packaging>=20.0 in /usr/local/lib/python3.10/dist-packages (from matplotlib>=3.3->obspy) (23.1)\n",
            "Requirement already satisfied: pillow>=6.2.0 in /usr/local/lib/python3.10/dist-packages (from matplotlib>=3.3->obspy) (8.4.0)\n",
            "Requirement already satisfied: pyparsing>=2.3.1 in /usr/local/lib/python3.10/dist-packages (from matplotlib>=3.3->obspy) (3.0.9)\n",
            "Requirement already satisfied: python-dateutil>=2.7 in /usr/local/lib/python3.10/dist-packages (from matplotlib>=3.3->obspy) (2.8.2)\n",
            "Requirement already satisfied: urllib3<1.27,>=1.21.1 in /usr/local/lib/python3.10/dist-packages (from requests->obspy) (1.26.15)\n",
            "Requirement already satisfied: certifi>=2017.4.17 in /usr/local/lib/python3.10/dist-packages (from requests->obspy) (2022.12.7)\n",
            "Requirement already satisfied: charset-normalizer~=2.0.0 in /usr/local/lib/python3.10/dist-packages (from requests->obspy) (2.0.12)\n",
            "Requirement already satisfied: idna<4,>=2.5 in /usr/local/lib/python3.10/dist-packages (from requests->obspy) (3.4)\n",
            "Requirement already satisfied: typing-extensions>=4.2.0 in /usr/local/lib/python3.10/dist-packages (from sqlalchemy->obspy) (4.5.0)\n",
            "Requirement already satisfied: greenlet!=0.4.17 in /usr/local/lib/python3.10/dist-packages (from sqlalchemy->obspy) (2.0.2)\n",
            "Requirement already satisfied: six>=1.5 in /usr/local/lib/python3.10/dist-packages (from python-dateutil>=2.7->matplotlib>=3.3->obspy) (1.16.0)\n"
          ]
        }
      ]
    },
    {
      "cell_type": "code",
      "execution_count": null,
      "metadata": {
        "id": "ypBE1NtEdxjd"
      },
      "outputs": [],
      "source": [
        "import matplotlib.pyplot as plt\n",
        "import numpy as np\n",
        "from scipy.fftpack import fft, ifft\n",
        "from scipy.fft import fft, fftfreq\n",
        "import matplotlib\n",
        "import matplotlib.pyplot as plt\n",
        "%matplotlib notebook\n",
        "from pylab import plot, xlabel, ylabel\n",
        "from scipy import arange\n",
        "from scipy import signal\n",
        "import obspy as ob\n",
        "import time\n",
        "import warnings\n",
        "#import ipywidgets as widgets\n",
        "#from ipywidgets import *\n",
        "warnings.filterwarnings('ignore')"
      ]
    },
    {
      "cell_type": "code",
      "source": [
        "fq=100.0 # frequency of input signal\\n\","
      ],
      "metadata": {
        "id": "Z-d2E3L33ps7"
      },
      "execution_count": null,
      "outputs": []
    },
    {
      "cell_type": "code",
      "execution_count": null,
      "metadata": {
        "id": "ZSMG_Tnfdxje"
      },
      "outputs": [],
      "source": [
        "tr=ob.Trace(datadivided[0]) # turn the data in obspy formatted trace\n",
        "tr.stats.delta = 1/fq  # give trace time sampling size\n",
        "trf=tr.filter(\"highpass\", freq=1.0)   # apply high-pass filter"
      ]
    },
    {
      "cell_type": "code",
      "execution_count": null,
      "metadata": {
        "id": "AnkH_j7ddxjf",
        "colab": {
          "base_uri": "https://localhost:8080/",
          "height": 430
        },
        "outputId": "60855d19-56ae-4e6f-eee1-2609ea760efe"
      },
      "outputs": [
        {
          "output_type": "display_data",
          "data": {
            "text/plain": [
              "<Figure size 640x480 with 2 Axes>"
            ],
            "image/png": "[encoded data removed]"
          },
          "metadata": {}
        }
      ],
      "source": [
        "%matplotlib inline\n",
        "fig,ax=plt.subplots(2)\n",
        "ax[0].plot(datadivided[0]);\n",
        "ax[1].plot(trf);"
      ]
    },
    {
      "cell_type": "code",
      "source": [
        "datafiltered = list()\n",
        "\n",
        "for i in range(len(datadivided)):\n",
        "    tr=ob.Trace(datadivided[i]) # turn the data in obspy formatted trace\n",
        "    tr.stats.delta = 1/fq  # give trace time sampling size\n",
        "    datafiltered.append(tr.filter(\"highpass\", freq=1.0).data)  # apply high-pass filter"
      ],
      "metadata": {
        "id": "mvu_oAaF-ALs"
      },
      "execution_count": null,
      "outputs": []
    },
    {
      "cell_type": "markdown",
      "source": [
        "Featrue Extraction"
      ],
      "metadata": {
        "id": "3tPRXgLM_rM3"
      }
    },
    {
      "cell_type": "code",
      "source": [
        "print(len(datafiltered))\n",
        "\n",
        "type(datafiltered[0])"
      ],
      "metadata": {
        "colab": {
          "base_uri": "https://localhost:8080/"
        },
        "id": "Qymj09QX_owZ",
        "outputId": "9619d737-8968-494a-d7ca-e3c66eb3a19d"
      },
      "execution_count": null,
      "outputs": [
        {
          "output_type": "stream",
          "name": "stdout",
          "text": [
            "720\n"
          ]
        },
        {
          "output_type": "execute_result",
          "data": {
            "text/plain": [
              "numpy.ndarray"
            ]
          },
          "metadata": {},
          "execution_count": 23
        }
      ]
    },
    {
      "cell_type": "markdown",
      "source": [
        "For each waveform, feature vectors are calculated to use in clustering analysis. The data features are time and frequency domain scalar values that include the integral of the squared waveform, maximum spectral amplitude, frequency at the maximum spectral amplitude, center frequency, signal bandwidth, zero upcrossing rate, and the rate of spectral peaks"
      ],
      "metadata": {
        "id": "t2HFWcQrEX56"
      }
    },
    {
      "cell_type": "markdown",
      "source": [
        "First using fourier transform to get the frequency domain values"
      ],
      "metadata": {
        "id": "MEGeEpLNnWbX"
      }
    },
    {
      "cell_type": "code",
      "source": [
        "\n",
        "fs=100#HZ sampling freq\n",
        "t= np.arange(0,5,1/fs) #time interval\n",
        "f = 100;# signal freq\n",
        "# generate frequency axis\n",
        "n=np.size(t)# number of samples\n",
        "fi = np.linspace(0,int(fs/2),int(n/2))#freq interval\n",
        "\n",
        "datafft = list()#spectral_amplitudes\n",
        "\n",
        "# Calculate the Fourier transform of the waveform\n",
        "for i in range(len(datafiltered)):\n",
        "    datafft.append(fft(datafiltered[i])[0: int(n/2)])# #spectral_amplitudes\n"
      ],
      "metadata": {
        "id": "kekB633C43uE"
      },
      "execution_count": null,
      "outputs": []
    },
    {
      "cell_type": "code",
      "source": [
        "%matplotlib inline\n",
        "fig,ax=plt.subplots(2)\n",
        "ax[0].plot(fi,np.abs(datafft[10]));\n",
        "ax[1].plot(datafiltered[10]);"
      ],
      "metadata": {
        "colab": {
          "base_uri": "https://localhost:8080/",
          "height": 430
        },
        "id": "MTHpcVWLWOUN",
        "outputId": "f2b587f0-26e8-4263-c6ca-48fa8ccea5a6"
      },
      "execution_count": null,
      "outputs": [
        {
          "output_type": "display_data",
          "data": {
            "text/plain": [
              "<Figure size 640x480 with 2 Axes>"
            ],
            "image/png": "[encoded data removed]"
          },
          "metadata": {}
        }
      ]
    },
    {
      "cell_type": "markdown",
      "source": [
        "Get the intergral of squared waveform"
      ],
      "metadata": {
        "id": "ZnYyS2Cum_2T"
      }
    },
    {
      "cell_type": "code",
      "source": [
        "integral = list()\n",
        "for i in range(len(datafiltered)):\n",
        "    # Get the waveform data\n",
        "    data = datafiltered[i]\n",
        "\n",
        "    # Square the waveform data\n",
        "    data_squared = data ** 2\n",
        "\n",
        "    # Calculate the integral of the squared data\n",
        "    integral.append(np.sum(data_squared))"
      ],
      "metadata": {
        "id": "fWGZF34-Ma-3"
      },
      "execution_count": null,
      "outputs": []
    },
    {
      "cell_type": "markdown",
      "source": [
        "Max spectral amplitude:"
      ],
      "metadata": {
        "id": "1OlHGXkY05wg"
      }
    },
    {
      "cell_type": "markdown",
      "source": [
        "Frequency of max spectral amplitude:"
      ],
      "metadata": {
        "id": "5-y0xgSqhFM5"
      }
    },
    {
      "cell_type": "code",
      "source": [
        "#Assuming Fx is a list or array containing the spectral amplitudes and fi is a corresponding list or array containing the frequencies,\n",
        "#this code finds the index of the maximum amplitude and retrieves the corresponding frequency.\n",
        "max_indices = []\n",
        "max_amplitudes = []\n",
        "for array in datafft:\n",
        "    max_index = np.argmax(array)\n",
        "    max_indices.append(max_index)\n",
        "    max_amplitudes.append(array[max_index].real)\n",
        "\n",
        "# Retrieve the corresponding frequencies\n",
        "frequencies = [fi[index] for index in max_indices]"
      ],
      "metadata": {
        "id": "Bu_0JtLfgz0M"
      },
      "execution_count": null,
      "outputs": []
    },
    {
      "cell_type": "markdown",
      "source": [
        "Center frequency:"
      ],
      "metadata": {
        "id": "--6oX2z4hLDZ"
      }
    },
    {
      "cell_type": "code",
      "source": [
        "#Assuming fi and Fxi are lists or arrays representing frequencies and corresponding\n",
        "#spectral amplitudes, respectively, this code calculates the center frequency\n",
        "#using the given equation.\n",
        "center_frequency = list()\n",
        "for i in range(len(datafiltered)):\n",
        "    numerator = np.sum(fi * datafft[i]).real\n",
        "    denominator = np.sum(datafft[i]).real\n",
        "    center_frequency.append(numerator / denominator)"
      ],
      "metadata": {
        "id": "O2MshlpZgzxH"
      },
      "execution_count": null,
      "outputs": []
    },
    {
      "cell_type": "markdown",
      "source": [
        "Signal bandwidth:"
      ],
      "metadata": {
        "id": "TUM5rFyGhLhF"
      }
    },
    {
      "cell_type": "code",
      "source": [
        "# Assuming fi and Fxi are lists or arrays representing frequencies and corresponding spectral amplitudes,\n",
        "# and fcenter is the center frequency, this code calculates the signal bandwidth using the given equation.\n",
        "signal_bandwidth = list()\n",
        "for i in range(len(datafiltered)):\n",
        "    numerator = np.sum((fi - center_frequency[i])**2)\n",
        "    denominator = np.sum(datafft[i])\n",
        "    signal_bandwidth.append(np.sqrt(numerator / denominator).real)"
      ],
      "metadata": {
        "id": "XoekbL2hgzuA"
      },
      "execution_count": null,
      "outputs": []
    },
    {
      "cell_type": "markdown",
      "source": [
        "Zero up-crossing rate:"
      ],
      "metadata": {
        "id": "Ns5rkOWLhvu4"
      }
    },
    {
      "cell_type": "code",
      "source": [
        "# Assuming fi and Fxi are lists or arrays representing frequencies and corresponding\n",
        "# spectral amplitudes, this code calculates the zero up-crossing rate using the given equation.\n",
        "zero_upcrossing_rate = list()\n",
        "for i in range(len(datafiltered)):\n",
        "    omega = 2 * np.pi * fi\n",
        "    numerator = np.sum(omega**2 * datafft[i]**2)\n",
        "    denominator = np.sum(datafft[i]**2)\n",
        "    zero_upcrossing_rate.append(np.sqrt(numerator / denominator).real)"
      ],
      "metadata": {
        "id": "vvvn1z2xgzpu"
      },
      "execution_count": null,
      "outputs": []
    },
    {
      "cell_type": "markdown",
      "source": [
        "Rate of spectral peaks:"
      ],
      "metadata": {
        "id": "YVZy__7siC6f"
      }
    },
    {
      "cell_type": "code",
      "source": [
        "#Assuming fi and Fxi are lists or arrays representing frequencies and corresponding\n",
        "#spectral amplitudes, this code calculates the rate of spectral peaks using the given equation.\n",
        "rate_of_spectral_peaks = list()\n",
        "for i in range(len(datafiltered)):\n",
        "    omega = 2 * np.pi * fi\n",
        "    numerator = np.sum(omega**4 * datafft[i]**2)\n",
        "    denominator = np.sum(omega**2 * datafft[i]**2)\n",
        "    rate_of_spectral_peaks.append(np.sqrt(numerator / denominator).real)"
      ],
      "metadata": {
        "id": "Grk9WSD7gzl0"
      },
      "execution_count": null,
      "outputs": []
    },
    {
      "cell_type": "markdown",
      "source": [
        "PCA"
      ],
      "metadata": {
        "id": "cONrM-eQu-f0"
      }
    },
    {
      "cell_type": "code",
      "source": [
        "from sklearn.decomposition import PCA\n",
        "from sklearn.preprocessing import StandardScaler\n",
        "import pandas as pd\n",
        "\n",
        "df = pd.DataFrame(list(zip(integral, max_amplitudes, frequencies, center_frequency, signal_bandwidth,zero_upcrossing_rate,rate_of_spectral_peaks)),\n",
        "                  columns = ['integral of the squared waveform', 'maximum spectral amplitude', 'frequency at the maximum spectral amplitude',\n",
        "                             'center frequency', 'signal bandwidth', 'zero upcrossing rate', 'rate of spectral peaks'])\n",
        "df"
      ],
      "metadata": {
        "id": "v57-w5BxugAw",
        "colab": {
          "base_uri": "https://localhost:8080/",
          "height": 485
        },
        "outputId": "2574f560-5535-408c-98df-1a53af4b8ebe"
      },
      "execution_count": null,
      "outputs": [
        {
          "output_type": "execute_result",
          "data": {
            "text/plain": [
              "     integral of the squared waveform  maximum spectral amplitude  \\\n",
              "0                        4.450727e+05                 3831.371137   \n",
              "1                        2.753136e+05                 2733.794517   \n",
              "2                        8.620127e+06                12587.276384   \n",
              "3                        1.625990e+06                 1468.060150   \n",
              "4                        1.173240e+07                 9882.829957   \n",
              "..                                ...                         ...   \n",
              "715                      6.465616e+05                 5122.009891   \n",
              "716                      1.275258e+06                 2565.640454   \n",
              "717                      1.496874e+07                15099.423116   \n",
              "718                      6.736727e+05                 4871.738246   \n",
              "719                      1.938254e+05                 3459.355827   \n",
              "\n",
              "     frequency at the maximum spectral amplitude  center frequency  \\\n",
              "0                                       0.602410         17.909420   \n",
              "1                                       1.004016         14.404091   \n",
              "2                                       1.606426         16.387972   \n",
              "3                                       0.401606         14.761540   \n",
              "4                                       0.803213         15.940552   \n",
              "..                                           ...               ...   \n",
              "715                                     1.004016         24.357529   \n",
              "716                                     0.803213         14.276447   \n",
              "717                                     1.807229         16.124562   \n",
              "718                                     1.405622         16.409619   \n",
              "719                                     1.204819         -8.922280   \n",
              "\n",
              "     signal bandwidth  zero upcrossing rate  rate of spectral peaks  \n",
              "0            1.138306             38.861817              210.892013  \n",
              "1            0.217624             18.367710              213.595169  \n",
              "2            0.448876             70.184974              211.661191  \n",
              "3            0.243128             48.683488              212.599692  \n",
              "4            0.113902            103.767189              211.904864  \n",
              "..                ...                   ...                     ...  \n",
              "715          0.671480              5.392850              211.860387  \n",
              "716          0.212875             52.077327              211.846341  \n",
              "717          0.402103             85.612212              211.400923  \n",
              "718          0.932964             52.706116              211.131912  \n",
              "719          7.381238              6.954919              154.903939  \n",
              "\n",
              "[720 rows x 7 columns]"
            ],
            "text/html": [
              "\n",
              "  <div id=\"df-9ad8e0f3-fd98-4974-b435-05000aaedb20\">\n",
              "    <div class=\"colab-df-container\">\n",
              "      <div>\n",
              "<style scoped>\n",
              "    .dataframe tbody tr th:only-of-type {\n",
              "        vertical-align: middle;\n",
              "    }\n",
              "\n",
              "    .dataframe tbody tr th {\n",
              "        vertical-align: top;\n",
              "    }\n",
              "\n",
              "    .dataframe thead th {\n",
              "        text-align: right;\n",
              "    }\n",
              "</style>\n",
              "<table border=\"1\" class=\"dataframe\">\n",
              "  <thead>\n",
              "    <tr style=\"text-align: right;\">\n",
              "      <th></th>\n",
              "      <th>integral of the squared waveform</th>\n",
              "      <th>maximum spectral amplitude</th>\n",
              "      <th>frequency at the maximum spectral amplitude</th>\n",
              "      <th>center frequency</th>\n",
              "      <th>signal bandwidth</th>\n",
              "      <th>zero upcrossing rate</th>\n",
              "      <th>rate of spectral peaks</th>\n",
              "    </tr>\n",
              "  </thead>\n",
              "  <tbody>\n",
              "    <tr>\n",
              "      <th>0</th>\n",
              "      <td>4.450727e+05</td>\n",
              "      <td>3831.371137</td>\n",
              "      <td>0.602410</td>\n",
              "      <td>17.909420</td>\n",
              "      <td>1.138306</td>\n",
              "      <td>38.861817</td>\n",
              "      <td>210.892013</td>\n",
              "    </tr>\n",
              "    <tr>\n",
              "      <th>1</th>\n",
              "      <td>2.753136e+05</td>\n",
              "      <td>2733.794517</td>\n",
              "      <td>1.004016</td>\n",
              "      <td>14.404091</td>\n",
              "      <td>0.217624</td>\n",
              "      <td>18.367710</td>\n",
              "      <td>213.595169</td>\n",
              "    </tr>\n",
              "    <tr>\n",
              "      <th>2</th>\n",
              "      <td>8.620127e+06</td>\n",
              "      <td>12587.276384</td>\n",
              "      <td>1.606426</td>\n",
              "      <td>16.387972</td>\n",
              "      <td>0.448876</td>\n",
              "      <td>70.184974</td>\n",
              "      <td>211.661191</td>\n",
              "    </tr>\n",
              "    <tr>\n",
              "      <th>3</th>\n",
              "      <td>1.625990e+06</td>\n",
              "      <td>1468.060150</td>\n",
              "      <td>0.401606</td>\n",
              "      <td>14.761540</td>\n",
              "      <td>0.243128</td>\n",
              "      <td>48.683488</td>\n",
              "      <td>212.599692</td>\n",
              "    </tr>\n",
              "    <tr>\n",
              "      <th>4</th>\n",
              "      <td>1.173240e+07</td>\n",
              "      <td>9882.829957</td>\n",
              "      <td>0.803213</td>\n",
              "      <td>15.940552</td>\n",
              "      <td>0.113902</td>\n",
              "      <td>103.767189</td>\n",
              "      <td>211.904864</td>\n",
              "    </tr>\n",
              "    <tr>\n",
              "      <th>...</th>\n",
              "      <td>...</td>\n",
              "      <td>...</td>\n",
              "      <td>...</td>\n",
              "      <td>...</td>\n",
              "      <td>...</td>\n",
              "      <td>...</td>\n",
              "      <td>...</td>\n",
              "    </tr>\n",
              "    <tr>\n",
              "      <th>715</th>\n",
              "      <td>6.465616e+05</td>\n",
              "      <td>5122.009891</td>\n",
              "      <td>1.004016</td>\n",
              "      <td>24.357529</td>\n",
              "      <td>0.671480</td>\n",
              "      <td>5.392850</td>\n",
              "      <td>211.860387</td>\n",
              "    </tr>\n",
              "    <tr>\n",
              "      <th>716</th>\n",
              "      <td>1.275258e+06</td>\n",
              "      <td>2565.640454</td>\n",
              "      <td>0.803213</td>\n",
              "      <td>14.276447</td>\n",
              "      <td>0.212875</td>\n",
              "      <td>52.077327</td>\n",
              "      <td>211.846341</td>\n",
              "    </tr>\n",
              "    <tr>\n",
              "      <th>717</th>\n",
              "      <td>1.496874e+07</td>\n",
              "      <td>15099.423116</td>\n",
              "      <td>1.807229</td>\n",
              "      <td>16.124562</td>\n",
              "      <td>0.402103</td>\n",
              "      <td>85.612212</td>\n",
              "      <td>211.400923</td>\n",
              "    </tr>\n",
              "    <tr>\n",
              "      <th>718</th>\n",
              "      <td>6.736727e+05</td>\n",
              "      <td>4871.738246</td>\n",
              "      <td>1.405622</td>\n",
              "      <td>16.409619</td>\n",
              "      <td>0.932964</td>\n",
              "      <td>52.706116</td>\n",
              "      <td>211.131912</td>\n",
              "    </tr>\n",
              "    <tr>\n",
              "      <th>719</th>\n",
              "      <td>1.938254e+05</td>\n",
              "      <td>3459.355827</td>\n",
              "      <td>1.204819</td>\n",
              "      <td>-8.922280</td>\n",
              "      <td>7.381238</td>\n",
              "      <td>6.954919</td>\n",
              "      <td>154.903939</td>\n",
              "    </tr>\n",
              "  </tbody>\n",
              "</table>\n",
              "<p>720 rows × 7 columns</p>\n",
              "</div>\n",
              "      <button class=\"colab-df-convert\" onclick=\"convertToInteractive('df-9ad8e0f3-fd98-4974-b435-05000aaedb20')\"\n",
              "              title=\"Convert this dataframe to an interactive table.\"\n",
              "              style=\"display:none;\">\n",
              "        \n",
              "  <svg xmlns=\"http://www.w3.org/2000/svg\" height=\"24px\"viewBox=\"0 0 24 24\"\n",
              "       width=\"24px\">\n",
              "    <path d=\"M0 0h24v24H0V0z\" fill=\"none\"/>\n",
              "    <path d=\"M18.56 5.44l.94 2.06.94-2.06 2.06-.94-2.06-.94-.94-2.06-.94 2.06-2.06.94zm-11 1L8.5 8.5l.94-2.06 2.06-.94-2.06-.94L8.5 2.5l-.94 2.06-2.06.94zm10 10l.94 2.06.94-2.06 2.06-.94-2.06-.94-.94-2.06-.94 2.06-2.06.94z\"/><path d=\"M17.41 7.96l-1.37-1.37c-.4-.4-.92-.59-1.43-.59-.52 0-1.04.2-1.43.59L10.3 9.45l-7.72 7.72c-.78.78-.78 2.05 0 2.83L4 21.41c.39.39.9.59 1.41.59.51 0 1.02-.2 1.41-.59l7.78-7.78 2.81-2.81c.8-.78.8-2.07 0-2.86zM5.41 20L4 18.59l7.72-7.72 1.47 1.35L5.41 20z\"/>\n",
              "  </svg>\n",
              "      </button>\n",
              "      \n",
              "  <style>\n",
              "    .colab-df-container {\n",
              "      display:flex;\n",
              "      flex-wrap:wrap;\n",
              "      gap: 12px;\n",
              "    }\n",
              "\n",
              "    .colab-df-convert {\n",
              "      background-color: #E8F0FE;\n",
              "      border: none;\n",
              "      border-radius: 50%;\n",
              "      cursor: pointer;\n",
              "      display: none;\n",
              "      fill: #1967D2;\n",
              "      height: 32px;\n",
              "      padding: 0 0 0 0;\n",
              "      width: 32px;\n",
              "    }\n",
              "\n",
              "    .colab-df-convert:hover {\n",
              "      background-color: #E2EBFA;\n",
              "      box-shadow: 0px 1px 2px rgba(60, 64, 67, 0.3), 0px 1px 3px 1px rgba(60, 64, 67, 0.15);\n",
              "      fill: #174EA6;\n",
              "    }\n",
              "\n",
              "    [theme=dark] .colab-df-convert {\n",
              "      background-color: #3B4455;\n",
              "      fill: #D2E3FC;\n",
              "    }\n",
              "\n",
              "    [theme=dark] .colab-df-convert:hover {\n",
              "      background-color: #434B5C;\n",
              "      box-shadow: 0px 1px 3px 1px rgba(0, 0, 0, 0.15);\n",
              "      filter: drop-shadow(0px 1px 2px rgba(0, 0, 0, 0.3));\n",
              "      fill: #FFFFFF;\n",
              "    }\n",
              "  </style>\n",
              "\n",
              "      <script>\n",
              "        const buttonEl =\n",
              "          document.querySelector('#df-9ad8e0f3-fd98-4974-b435-05000aaedb20 button.colab-df-convert');\n",
              "        buttonEl.style.display =\n",
              "          google.colab.kernel.accessAllowed ? 'block' : 'none';\n",
              "\n",
              "        async function convertToInteractive(key) {\n",
              "          const element = document.querySelector('#df-9ad8e0f3-fd98-4974-b435-05000aaedb20');\n",
              "          const dataTable =\n",
              "            await google.colab.kernel.invokeFunction('convertToInteractive',\n",
              "                                                     [key], {});\n",
              "          if (!dataTable) return;\n",
              "\n",
              "          const docLinkHtml = 'Like what you see? Visit the ' +\n",
              "            '<a target=\"_blank\" href=https://colab.research.google.com/notebooks/data_table.ipynb>data table notebook</a>'\n",
              "            + ' to learn more about interactive tables.';\n",
              "          element.innerHTML = '';\n",
              "          dataTable['output_type'] = 'display_data';\n",
              "          await google.colab.output.renderOutput(dataTable, element);\n",
              "          const docLink = document.createElement('div');\n",
              "          docLink.innerHTML = docLinkHtml;\n",
              "          element.appendChild(docLink);\n",
              "        }\n",
              "      </script>\n",
              "    </div>\n",
              "  </div>\n",
              "  "
            ]
          },
          "metadata": {},
          "execution_count": 32
        }
      ]
    },
    {
      "cell_type": "code",
      "source": [
        "from sklearn.model_selection import train_test_split\n",
        "\n",
        "# Assuming DataFrame is named 'df'\n",
        "X = df\n",
        "\n",
        "# Splitting the dataset into training and test sets\n",
        "X_train, X_test = train_test_split(X, test_size=0.1, random_state=66)"
      ],
      "metadata": {
        "id": "SAdUjQVC18uz"
      },
      "execution_count": null,
      "outputs": []
    },
    {
      "cell_type": "code",
      "source": [
        "scaler = StandardScaler()\n",
        "X_train_std = scaler.fit_transform(X_train)\n",
        "X_test_std = scaler.transform(X_test)"
      ],
      "metadata": {
        "id": "29Fe6Zamwoyl"
      },
      "execution_count": null,
      "outputs": []
    },
    {
      "cell_type": "code",
      "source": [
        "pca = PCA(n_components=7)\n",
        "X_train_pca = pca.fit_transform(X_train_std)\n",
        "X_test_pca = pca.transform(X_test_std)\n",
        "\n",
        "# Checking the explained variance ratio\n",
        "prop_var = pca.explained_variance_ratio_\n",
        "eigenvalues = pca.explained_variance_\n",
        "PC_numbers = np.arange(pca.n_components_) + 1\n",
        "\n",
        "plt.plot(PC_numbers,\n",
        "         prop_var,\n",
        "         'ro-')\n",
        "plt.title('Figure 1: Scree Plot', fontsize=8)\n",
        "plt.ylabel('Proportion of Variance', fontsize=8)\n",
        "plt.show()\n",
        "pca.explained_variance_ratio_"
      ],
      "metadata": {
        "id": "XnWTtw1vxdPD",
        "colab": {
          "base_uri": "https://localhost:8080/",
          "height": 481
        },
        "outputId": "27f60c7b-c83c-440b-c7c2-00b72bcd4205"
      },
      "execution_count": null,
      "outputs": [
        {
          "output_type": "display_data",
          "data": {
            "text/plain": [
              "<Figure size 640x480 with 1 Axes>"
            ],
            "image/png": "[encoded data removed]"
          },
          "metadata": {}
        },
        {
          "output_type": "execute_result",
          "data": {
            "text/plain": [
              "array([0.33124438, 0.25409438, 0.15096787, 0.13063609, 0.09688417,\n",
              "       0.02192669, 0.01424642])"
            ]
          },
          "metadata": {},
          "execution_count": 35
        }
      ]
    },
    {
      "cell_type": "markdown",
      "source": [
        "Whitening\n",
        "We have used PCA to reduce the dimension of the data. There is a closely related preprocessing step called whitening (or, in some other literatures, sphering) which is needed for some algorithms. If we are training on images, the raw input is redundant, since adjacent pixel values are highly correlated. The goal of whitening is to make the input less redundant; more formally, our desiderata are that our learning algorithms sees a training input where (i) the features are less correlated with each other, and (ii) the features all have the same variance.\n",
        "Whitening combined with dimensionality reduction. If you want to have data that is whitened and which is lower dimensional than the original input, you can also optionally keep only the top k\n",
        " components of xPCAwhite\n",
        ". When we combine PCA whitening with regularization (described later), the last few components of xPCAwhite\n",
        " will be nearly zero anyway, and thus can safely be dropped.\n",
        " http://ufldl.stanford.edu/tutorial/unsupervised/PCAWhitening/\n",
        "\n",
        " https://learndataa.com/2020/09/15/data-preprocessing-whitening-or-sphering-in-python/"
      ],
      "metadata": {
        "id": "FzoO4mZYQCOw"
      }
    },
    {
      "cell_type": "code",
      "source": [
        "# Import libraries\n",
        "import numpy as np\n",
        "import matplotlib.pyplot as plt\n",
        "from scipy import linalg\n",
        "\n",
        "# Create data\n",
        "x = X_train\n",
        "\n",
        "# Zero center data\n",
        "xc = x - np.mean(x, axis=0)\n",
        "print(xc.shape)\n",
        "xc = xc.T\n",
        "print('xc.shape:', xc.shape, '\\n')\n",
        "\n",
        "# Calculate Covariance matrix\n",
        "# Note: 'rowvar=True' because each row is considered as a feature\n",
        "# Note: 'bias=True' to divide the sum of squared variances by 'n' instead of 'n-1'\n",
        "xcov = np.cov(xc, rowvar=True, bias=True)\n",
        "print\n",
        "\n",
        "# Calculate Eigenvalues and Eigenvectors\n",
        "w, v = linalg.eig(xcov) # .eigh()\n",
        "# Note: Use w.real.round(4) to (1) remove 'j' notation to real, (2) round to '4' significant digits\n",
        "print(\"Eigenvalues:\\n\", w.real.round(4), '\\n')\n",
        "print(\"Eigenvectors:\\n\", v, '\\n')\n",
        "\n",
        "# Calculate inverse square root of Eigenvalues\n",
        "# Optional: Add '.1e5' to avoid division errors if needed\n",
        "# Create a diagonal matrix\n",
        "diagw = np.diag(1/(w**0.5)) # or np.diag(1/((w+.1e-5)**0.5))\n",
        "diagw = diagw.real.round(4) #convert to real and round off\n",
        "print(\"Diagonal matrix for inverse square root of Eigenvalues:\\n\", diagw, '\\n')\n",
        "\n",
        "# Calculate Rotation (optional)\n",
        "# Note: To see how data can be rotated\n",
        "xrot = np.dot(v, xc)\n",
        "\n",
        "# Whitening transform using PCA (Principal Component Analysis)\n",
        "wpca = np.dot(np.dot(diagw, v.T), xc)\n",
        "wpca = wpca[2:].T\n",
        "wpca"
      ],
      "metadata": {
        "colab": {
          "base_uri": "https://localhost:8080/"
        },
        "id": "fi_ZiT1nSbxC",
        "outputId": "4fc4e36a-955f-468b-c25d-b34e75533d2a"
      },
      "execution_count": null,
      "outputs": [
        {
          "output_type": "stream",
          "name": "stdout",
          "text": [
            "(648, 7)\n",
            "xc.shape: (7, 648) \n",
            "\n",
            "Eigenvalues:\n",
            " [3.53281836e+13 5.81878531e+06 1.05131110e+03 4.89310600e+02\n",
            " 3.44607700e+02 1.84000000e-01 1.16380000e+00] \n",
            "\n",
            "Eigenvectors:\n",
            " [[-9.99999814e-01 -6.09712757e-04  9.81051186e-07 -8.04617034e-08\n",
            "   6.58135925e-08  2.89759313e-08  8.54096931e-09]\n",
            " [-6.09709241e-04  9.99997508e-01  2.14016366e-03 -1.67946267e-04\n",
            "  -1.25425699e-05 -5.76097339e-05  1.31284087e-05]\n",
            " [-7.30344768e-09  5.87986380e-05 -1.11139262e-03 -1.41281057e-03\n",
            "   8.86358495e-04  9.97928020e-01  6.43089949e-02]\n",
            " [ 9.10965816e-08 -1.49579272e-04  4.93367474e-02 -2.01114508e-01\n",
            "  -9.71520190e-01  8.03777956e-03 -1.14903144e-01]\n",
            " [ 4.28336978e-08 -4.87928529e-05  1.37894393e-02 -6.82078314e-03\n",
            "  -1.15636939e-01 -6.37620831e-02  9.91123514e-01]\n",
            " [-2.27667945e-06  2.12494849e-03 -9.79076992e-01  1.83305836e-01\n",
            "  -8.82107502e-02 -1.04422910e-03  4.52447379e-03]\n",
            " [-2.63002546e-07  2.61787379e-04 -1.96921721e-01 -9.62238732e-01\n",
            "   1.87068695e-01 -2.89210309e-03  1.77575002e-02]] \n",
            "\n",
            "Diagonal matrix for inverse square root of Eigenvalues:\n",
            " [[0.0000e+00 0.0000e+00 0.0000e+00 0.0000e+00 0.0000e+00 0.0000e+00\n",
            "  0.0000e+00]\n",
            " [0.0000e+00 4.0000e-04 0.0000e+00 0.0000e+00 0.0000e+00 0.0000e+00\n",
            "  0.0000e+00]\n",
            " [0.0000e+00 0.0000e+00 3.0800e-02 0.0000e+00 0.0000e+00 0.0000e+00\n",
            "  0.0000e+00]\n",
            " [0.0000e+00 0.0000e+00 0.0000e+00 4.5200e-02 0.0000e+00 0.0000e+00\n",
            "  0.0000e+00]\n",
            " [0.0000e+00 0.0000e+00 0.0000e+00 0.0000e+00 5.3900e-02 0.0000e+00\n",
            "  0.0000e+00]\n",
            " [0.0000e+00 0.0000e+00 0.0000e+00 0.0000e+00 0.0000e+00 2.3315e+00\n",
            "  0.0000e+00]\n",
            " [0.0000e+00 0.0000e+00 0.0000e+00 0.0000e+00 0.0000e+00 0.0000e+00\n",
            "  9.2700e-01]] \n",
            "\n"
          ]
        },
        {
          "output_type": "execute_result",
          "data": {
            "text/plain": [
              "array([[ 0.45238436, -0.08700392,  0.04600793,  0.66510279,  0.18194448],\n",
              "       [-0.51407751, -0.00535985,  0.04631679, -1.41146653, -0.31994029],\n",
              "       [ 0.90090664, -0.72139256, -0.13770061, -1.09682364, -0.99294461],\n",
              "       ...,\n",
              "       [ 0.50016843, -0.23922308,  0.06371629, -1.17694329, -0.4396353 ],\n",
              "       [-0.74923782,  0.00668061, -0.0441632 , -1.20200612, -0.43891172],\n",
              "       [-1.1753639 ,  0.22793773, -0.14204301, -1.12573145, -0.33707188]])"
            ]
          },
          "metadata": {},
          "execution_count": 129
        }
      ]
    },
    {
      "cell_type": "code",
      "source": [
        "from scipy.linalg import sqrtm\n",
        "\n",
        "# Compute the covariance matrix\n",
        "covariance_matrix = pca.get_covariance()\n",
        "loadings = pca.components_\n",
        "\n",
        "# Calculate the correlation matrix\n",
        "correlation_matrix = np.corrcoef(loadings.T)\n",
        "\n",
        "# Compute the whitening matrix\n",
        "whitening_matrix = sqrtm(np.linalg.inv(covariance_matrix))\n",
        "\n",
        "# Apply whitening to the PCA components\n",
        "X_train_whitened = np.dot(X_train_pca, whitening_matrix)\n",
        "X_test_whitened = np.dot(X_test_pca, whitening_matrix)\n",
        "\n",
        "cm = pd.DataFrame(correlation_matrix)\n",
        "cm\n"
      ],
      "metadata": {
        "colab": {
          "base_uri": "https://localhost:8080/",
          "height": 269
        },
        "id": "Km7f8jPNxGK7",
        "outputId": "00d1308e-1cf3-4baa-dc46-c1f3202dd49e"
      },
      "execution_count": null,
      "outputs": [
        {
          "output_type": "execute_result",
          "data": {
            "text/plain": [
              "          0         1         2         3         4         5         6\n",
              "0  1.000000  0.035963 -0.015616  0.000807 -0.106778 -0.011331  0.076993\n",
              "1  0.035963  1.000000  0.050325 -0.002600  0.344108  0.036516 -0.248121\n",
              "2 -0.015616  0.050325  1.000000  0.001129 -0.149422 -0.015856  0.107742\n",
              "3  0.000807 -0.002600  0.001129  1.000000  0.007721  0.000819 -0.005567\n",
              "4 -0.106778  0.344108 -0.149422  0.007721  1.000000 -0.108422  0.736705\n",
              "5 -0.011331  0.036516 -0.015856  0.000819 -0.108422  1.000000  0.078178\n",
              "6  0.076993 -0.248121  0.107742 -0.005567  0.736705  0.078178  1.000000"
            ],
            "text/html": [
              "\n",
              "  <div id=\"df-caacd279-0cb3-4348-8fa2-76e3a730b756\">\n",
              "    <div class=\"colab-df-container\">\n",
              "      <div>\n",
              "<style scoped>\n",
              "    .dataframe tbody tr th:only-of-type {\n",
              "        vertical-align: middle;\n",
              "    }\n",
              "\n",
              "    .dataframe tbody tr th {\n",
              "        vertical-align: top;\n",
              "    }\n",
              "\n",
              "    .dataframe thead th {\n",
              "        text-align: right;\n",
              "    }\n",
              "</style>\n",
              "<table border=\"1\" class=\"dataframe\">\n",
              "  <thead>\n",
              "    <tr style=\"text-align: right;\">\n",
              "      <th></th>\n",
              "      <th>0</th>\n",
              "      <th>1</th>\n",
              "      <th>2</th>\n",
              "      <th>3</th>\n",
              "      <th>4</th>\n",
              "      <th>5</th>\n",
              "      <th>6</th>\n",
              "    </tr>\n",
              "  </thead>\n",
              "  <tbody>\n",
              "    <tr>\n",
              "      <th>0</th>\n",
              "      <td>1.000000</td>\n",
              "      <td>0.035963</td>\n",
              "      <td>-0.015616</td>\n",
              "      <td>0.000807</td>\n",
              "      <td>-0.106778</td>\n",
              "      <td>-0.011331</td>\n",
              "      <td>0.076993</td>\n",
              "    </tr>\n",
              "    <tr>\n",
              "      <th>1</th>\n",
              "      <td>0.035963</td>\n",
              "      <td>1.000000</td>\n",
              "      <td>0.050325</td>\n",
              "      <td>-0.002600</td>\n",
              "      <td>0.344108</td>\n",
              "      <td>0.036516</td>\n",
              "      <td>-0.248121</td>\n",
              "    </tr>\n",
              "    <tr>\n",
              "      <th>2</th>\n",
              "      <td>-0.015616</td>\n",
              "      <td>0.050325</td>\n",
              "      <td>1.000000</td>\n",
              "      <td>0.001129</td>\n",
              "      <td>-0.149422</td>\n",
              "      <td>-0.015856</td>\n",
              "      <td>0.107742</td>\n",
              "    </tr>\n",
              "    <tr>\n",
              "      <th>3</th>\n",
              "      <td>0.000807</td>\n",
              "      <td>-0.002600</td>\n",
              "      <td>0.001129</td>\n",
              "      <td>1.000000</td>\n",
              "      <td>0.007721</td>\n",
              "      <td>0.000819</td>\n",
              "      <td>-0.005567</td>\n",
              "    </tr>\n",
              "    <tr>\n",
              "      <th>4</th>\n",
              "      <td>-0.106778</td>\n",
              "      <td>0.344108</td>\n",
              "      <td>-0.149422</td>\n",
              "      <td>0.007721</td>\n",
              "      <td>1.000000</td>\n",
              "      <td>-0.108422</td>\n",
              "      <td>0.736705</td>\n",
              "    </tr>\n",
              "    <tr>\n",
              "      <th>5</th>\n",
              "      <td>-0.011331</td>\n",
              "      <td>0.036516</td>\n",
              "      <td>-0.015856</td>\n",
              "      <td>0.000819</td>\n",
              "      <td>-0.108422</td>\n",
              "      <td>1.000000</td>\n",
              "      <td>0.078178</td>\n",
              "    </tr>\n",
              "    <tr>\n",
              "      <th>6</th>\n",
              "      <td>0.076993</td>\n",
              "      <td>-0.248121</td>\n",
              "      <td>0.107742</td>\n",
              "      <td>-0.005567</td>\n",
              "      <td>0.736705</td>\n",
              "      <td>0.078178</td>\n",
              "      <td>1.000000</td>\n",
              "    </tr>\n",
              "  </tbody>\n",
              "</table>\n",
              "</div>\n",
              "      <button class=\"colab-df-convert\" onclick=\"convertToInteractive('df-caacd279-0cb3-4348-8fa2-76e3a730b756')\"\n",
              "              title=\"Convert this dataframe to an interactive table.\"\n",
              "              style=\"display:none;\">\n",
              "        \n",
              "  <svg xmlns=\"http://www.w3.org/2000/svg\" height=\"24px\"viewBox=\"0 0 24 24\"\n",
              "       width=\"24px\">\n",
              "    <path d=\"M0 0h24v24H0V0z\" fill=\"none\"/>\n",
              "    <path d=\"M18.56 5.44l.94 2.06.94-2.06 2.06-.94-2.06-.94-.94-2.06-.94 2.06-2.06.94zm-11 1L8.5 8.5l.94-2.06 2.06-.94-2.06-.94L8.5 2.5l-.94 2.06-2.06.94zm10 10l.94 2.06.94-2.06 2.06-.94-2.06-.94-.94-2.06-.94 2.06-2.06.94z\"/><path d=\"M17.41 7.96l-1.37-1.37c-.4-.4-.92-.59-1.43-.59-.52 0-1.04.2-1.43.59L10.3 9.45l-7.72 7.72c-.78.78-.78 2.05 0 2.83L4 21.41c.39.39.9.59 1.41.59.51 0 1.02-.2 1.41-.59l7.78-7.78 2.81-2.81c.8-.78.8-2.07 0-2.86zM5.41 20L4 18.59l7.72-7.72 1.47 1.35L5.41 20z\"/>\n",
              "  </svg>\n",
              "      </button>\n",
              "      \n",
              "  <style>\n",
              "    .colab-df-container {\n",
              "      display:flex;\n",
              "      flex-wrap:wrap;\n",
              "      gap: 12px;\n",
              "    }\n",
              "\n",
              "    .colab-df-convert {\n",
              "      background-color: #E8F0FE;\n",
              "      border: none;\n",
              "      border-radius: 50%;\n",
              "      cursor: pointer;\n",
              "      display: none;\n",
              "      fill: #1967D2;\n",
              "      height: 32px;\n",
              "      padding: 0 0 0 0;\n",
              "      width: 32px;\n",
              "    }\n",
              "\n",
              "    .colab-df-convert:hover {\n",
              "      background-color: #E2EBFA;\n",
              "      box-shadow: 0px 1px 2px rgba(60, 64, 67, 0.3), 0px 1px 3px 1px rgba(60, 64, 67, 0.15);\n",
              "      fill: #174EA6;\n",
              "    }\n",
              "\n",
              "    [theme=dark] .colab-df-convert {\n",
              "      background-color: #3B4455;\n",
              "      fill: #D2E3FC;\n",
              "    }\n",
              "\n",
              "    [theme=dark] .colab-df-convert:hover {\n",
              "      background-color: #434B5C;\n",
              "      box-shadow: 0px 1px 3px 1px rgba(0, 0, 0, 0.15);\n",
              "      filter: drop-shadow(0px 1px 2px rgba(0, 0, 0, 0.3));\n",
              "      fill: #FFFFFF;\n",
              "    }\n",
              "  </style>\n",
              "\n",
              "      <script>\n",
              "        const buttonEl =\n",
              "          document.querySelector('#df-caacd279-0cb3-4348-8fa2-76e3a730b756 button.colab-df-convert');\n",
              "        buttonEl.style.display =\n",
              "          google.colab.kernel.accessAllowed ? 'block' : 'none';\n",
              "\n",
              "        async function convertToInteractive(key) {\n",
              "          const element = document.querySelector('#df-caacd279-0cb3-4348-8fa2-76e3a730b756');\n",
              "          const dataTable =\n",
              "            await google.colab.kernel.invokeFunction('convertToInteractive',\n",
              "                                                     [key], {});\n",
              "          if (!dataTable) return;\n",
              "\n",
              "          const docLinkHtml = 'Like what you see? Visit the ' +\n",
              "            '<a target=\"_blank\" href=https://colab.research.google.com/notebooks/data_table.ipynb>data table notebook</a>'\n",
              "            + ' to learn more about interactive tables.';\n",
              "          element.innerHTML = '';\n",
              "          dataTable['output_type'] = 'display_data';\n",
              "          await google.colab.output.renderOutput(dataTable, element);\n",
              "          const docLink = document.createElement('div');\n",
              "          docLink.innerHTML = docLinkHtml;\n",
              "          element.appendChild(docLink);\n",
              "        }\n",
              "      </script>\n",
              "    </div>\n",
              "  </div>\n",
              "  "
            ]
          },
          "metadata": {},
          "execution_count": 37
        }
      ]
    },
    {
      "cell_type": "markdown",
      "source": [
        "KMean"
      ],
      "metadata": {
        "id": "7DjhCNjEvCjb"
      }
    },
    {
      "cell_type": "code",
      "source": [
        "import numpy as np\n",
        "from sklearn.cluster import KMeans\n",
        "from sklearn.metrics import pairwise_distances_argmin_min\n",
        "from sklearn.metrics import pairwise_distances\n",
        "\n",
        "# Elbow Method for optimal number of clusters\n",
        "\n",
        "\n",
        "Sum_of_squared_distances = []\n",
        "K = range(2,21)\n",
        "for num_clusters in K :\n",
        "    kmeans = KMeans(n_clusters=num_clusters)\n",
        "    kmeans.fit(wpca)\n",
        "    Sum_of_squared_distances.append(kmeans.inertia_)\n",
        "plt.plot(K,Sum_of_squared_distances,'bx-')\n",
        "plt.xlabel('Values of K')\n",
        "plt.ylabel('Sum of squared distances/Inertia')\n",
        "plt.title('Elbow Method For Optimal k')\n",
        "plt.show()\n"
      ],
      "metadata": {
        "id": "3sYjorKtxGE6",
        "colab": {
          "base_uri": "https://localhost:8080/",
          "height": 472
        },
        "outputId": "07e189a1-b35b-4c31-8e1d-2100003528ab"
      },
      "execution_count": null,
      "outputs": [
        {
          "output_type": "display_data",
          "data": {
            "text/plain": [
              "<Figure size 640x480 with 1 Axes>"
            ],
            "image/png": "[encoded data removed]"
          },
          "metadata": {}
        }
      ]
    },
    {
      "cell_type": "code",
      "source": [
        "from sklearn.metrics import silhouette_score\n",
        "silhouette_avg = []\n",
        "for num_clusters in K:\n",
        "  # initialise kmeans\n",
        "  kmeans = KMeans(n_clusters=num_clusters)\n",
        "  kmeans.fit(wpca)\n",
        "  cluster_labels = kmeans.labels_\n",
        "  # silhouette score\n",
        "  silhouette_avg.append(silhouette_score(wpca, cluster_labels))\n",
        "plt.plot(K,silhouette_avg,'bx-')\n",
        "plt.xlabel('Values of K')\n",
        "plt.ylabel('Silhouette score')\n",
        "plt.title('Silhouette analysis For Optimal k')\n",
        "plt.show()"
      ],
      "metadata": {
        "id": "nG0YwDjBG6dC",
        "colab": {
          "base_uri": "https://localhost:8080/",
          "height": 472
        },
        "outputId": "042b7d1e-1a60-4cdc-b08d-dc48d3c2e1fe"
      },
      "execution_count": null,
      "outputs": [
        {
          "output_type": "display_data",
          "data": {
            "text/plain": [
              "<Figure size 640x480 with 1 Axes>"
            ],
            "image/png": "[encoded data removed]"
          },
          "metadata": {}
        }
      ]
    },
    {
      "cell_type": "code",
      "source": [
        "!pip install git+https://github.com/milesgranger/gap_statistic.git"
      ],
      "metadata": {
        "id": "4zulkxo1LZYE",
        "colab": {
          "base_uri": "https://localhost:8080/"
        },
        "outputId": "009ab833-4116-47a7-e062-e8cdc30da22f"
      },
      "execution_count": null,
      "outputs": [
        {
          "output_type": "stream",
          "name": "stdout",
          "text": [
            "Looking in indexes: https://pypi.org/simple, https://us-python.pkg.dev/colab-wheels/public/simple/\n",
            "Collecting git+https://github.com/milesgranger/gap_statistic.git\n",
            "  Cloning https://github.com/milesgranger/gap_statistic.git to /tmp/pip-req-build-mrye1y3s\n",
            "  Running command git clone --filter=blob:none --quiet https://github.com/milesgranger/gap_statistic.git /tmp/pip-req-build-mrye1y3s\n",
            "  Resolved https://github.com/milesgranger/gap_statistic.git to commit d5f8a8ec719fa8c33caa68a957e90feedd80475f\n",
            "  Installing build dependencies ... \u001b[?25l\u001b[?25hdone\n",
            "  Getting requirements to build wheel ... \u001b[?25l\u001b[?25hdone\n",
            "  Installing backend dependencies ... \u001b[?25l\u001b[?25hdone\n",
            "  Preparing metadata (pyproject.toml) ... \u001b[?25l\u001b[?25hdone\n",
            "Requirement already satisfied: numpy in /usr/local/lib/python3.10/dist-packages (from gap-stat==2.0.2) (1.22.4)\n",
            "Requirement already satisfied: pandas in /usr/local/lib/python3.10/dist-packages (from gap-stat==2.0.2) (1.5.3)\n",
            "Requirement already satisfied: scipy in /usr/local/lib/python3.10/dist-packages (from gap-stat==2.0.2) (1.10.1)\n",
            "Requirement already satisfied: python-dateutil>=2.8.1 in /usr/local/lib/python3.10/dist-packages (from pandas->gap-stat==2.0.2) (2.8.2)\n",
            "Requirement already satisfied: pytz>=2020.1 in /usr/local/lib/python3.10/dist-packages (from pandas->gap-stat==2.0.2) (2022.7.1)\n",
            "Requirement already satisfied: six>=1.5 in /usr/local/lib/python3.10/dist-packages (from python-dateutil>=2.8.1->pandas->gap-stat==2.0.2) (1.16.0)\n",
            "Building wheels for collected packages: gap-stat\n",
            "  Building wheel for gap-stat (pyproject.toml) ... \u001b[?25l\u001b[?25hdone\n",
            "  Created wheel for gap-stat: filename=gap_stat-2.0.2-py3-none-any.whl size=6079 sha256=18bc5a15dec317ea20f4cec664be0be74bb491729d9054541991946f9ffec904\n",
            "  Stored in directory: /tmp/pip-ephem-wheel-cache-ci4i8hbt/wheels/23/de/a0/364cf1dc6cc8534993f78aeaf84fabf8496481fd7ae5ac31ff\n",
            "Successfully built gap-stat\n",
            "Installing collected packages: gap-stat\n",
            "Successfully installed gap-stat-2.0.2\n"
          ]
        }
      ]
    },
    {
      "cell_type": "markdown",
      "source": [
        "Gap Statistic"
      ],
      "metadata": {
        "id": "X1M5vhBExxKG"
      }
    },
    {
      "cell_type": "code",
      "source": [
        "from gap_statistic import OptimalK\n",
        "from sklearn.cluster import KMeans\n",
        "def KMeans_clustering_func(X, k):\n",
        "    \"\"\"\n",
        "    K Means Clustering function, which uses the K Means model from sklearn.\n",
        "\n",
        "    These user-defined functions *must* take the X (input features) and a k\n",
        "    when initializing OptimalK\n",
        "    \"\"\"\n",
        "\n",
        "    # Include any clustering Algorithm that can return cluster centers\n",
        "\n",
        "    m = KMeans(random_state=12, n_clusters=k, init=\"k-means++\",n_init=100)\n",
        "    m.fit(X)\n",
        "\n",
        "    # Return the location of each cluster center,\n",
        "    # and the labels for each point.\n",
        "    return m.cluster_centers_, m.predict(X)\n",
        "#--------------------create a wrapper around OptimalK to extract cluster centers and cluster labels\n",
        "optimalK = OptimalK(clusterer=KMeans_clustering_func)\n",
        "#--------------------Run optimal K on the input data (subset_scaled_interim) and number of clusters\n",
        "n_clusters = optimalK(wpca, cluster_array=np.arange(2, 21))\n",
        "\n",
        "#--------------------Gap Statistics data frame\n",
        "optimalK.gap_df"
      ],
      "metadata": {
        "id": "Yvenv3adEdXl",
        "colab": {
          "base_uri": "https://localhost:8080/",
          "height": 645
        },
        "outputId": "d8467500-5976-49ff-f8cd-ad3c42b0c3bd"
      },
      "execution_count": null,
      "outputs": [
        {
          "output_type": "execute_result",
          "data": {
            "text/plain": [
              "    n_clusters  gap_value  ref_dispersion_std        sk          gap*  \\\n",
              "0          2.0   3.256837         1346.990179  0.022922  65288.778054   \n",
              "1          3.0   3.204753          756.331905  0.016469  50741.927256   \n",
              "2          4.0   3.232755          369.637757  0.009914  41479.452427   \n",
              "3          5.0   3.371271          348.500010  0.010071  38495.614113   \n",
              "4          6.0   3.490872          324.922011  0.010198  35677.570244   \n",
              "5          7.0   3.557416          783.206298  0.026603  33247.654419   \n",
              "6          8.0   3.589687          495.131799  0.018202  30532.523961   \n",
              "7          9.0   3.653926          539.322842  0.020822  28976.584180   \n",
              "8         10.0   3.689828          305.047420  0.012566  27239.076491   \n",
              "9         11.0   3.784066          251.606032  0.010538  27007.977611   \n",
              "10        12.0   3.821683          216.724347  0.009736  25197.810489   \n",
              "11        13.0   3.870898          359.660659  0.016746  24258.280888   \n",
              "12        14.0   3.930019          386.647128  0.018336  23958.457053   \n",
              "13        15.0   3.946751          412.634954  0.020837  22558.387846   \n",
              "14        16.0   3.971795          180.718551  0.009413  21746.386704   \n",
              "15        17.0   4.028181          207.684967  0.011074  21228.031993   \n",
              "16        18.0   4.071664          672.483801  0.036636  20928.869002   \n",
              "17        19.0   4.112919          230.534677  0.012748  20620.016271   \n",
              "18        20.0   4.128573          300.374358  0.017209  19769.571142   \n",
              "\n",
              "             sk*      diff         diff*  \n",
              "0   75405.030091  0.068553  73145.089902  \n",
              "1   58598.239105 -0.018088  57160.722615  \n",
              "2   47898.247786 -0.128445  47436.566137  \n",
              "3   44452.727823 -0.109403  44016.661852  \n",
              "4   41198.617983 -0.039941  40831.650794  \n",
              "5   38401.734968 -0.014070  37975.687740  \n",
              "6   35260.557283 -0.043416  35021.012117  \n",
              "7   33465.072336 -0.023336  33192.456256  \n",
              "8   31454.948567 -0.083701  31418.578424  \n",
              "9   31187.479544 -0.027881  30907.168637  \n",
              "10  29097.001515 -0.032470  28953.658118  \n",
              "11  28014.128517 -0.040785  27968.269409  \n",
              "12  27668.445574  0.004105  27452.609193  \n",
              "13  26052.539987 -0.015630  25923.432640  \n",
              "14  25111.431497 -0.045312  25031.547767  \n",
              "15  24513.193055 -0.006847  24478.211557  \n",
              "16  24179.048566 -0.028506  24120.284643  \n",
              "17  23811.431911  0.001555  23681.014340  \n",
              "18  22830.569211       NaN           NaN  "
            ],
            "text/html": [
              "\n",
              "  <div id=\"df-37b73439-3b11-42f6-850d-d89cefe1911b\">\n",
              "    <div class=\"colab-df-container\">\n",
              "      <div>\n",
              "<style scoped>\n",
              "    .dataframe tbody tr th:only-of-type {\n",
              "        vertical-align: middle;\n",
              "    }\n",
              "\n",
              "    .dataframe tbody tr th {\n",
              "        vertical-align: top;\n",
              "    }\n",
              "\n",
              "    .dataframe thead th {\n",
              "        text-align: right;\n",
              "    }\n",
              "</style>\n",
              "<table border=\"1\" class=\"dataframe\">\n",
              "  <thead>\n",
              "    <tr style=\"text-align: right;\">\n",
              "      <th></th>\n",
              "      <th>n_clusters</th>\n",
              "      <th>gap_value</th>\n",
              "      <th>ref_dispersion_std</th>\n",
              "      <th>sk</th>\n",
              "      <th>gap*</th>\n",
              "      <th>sk*</th>\n",
              "      <th>diff</th>\n",
              "      <th>diff*</th>\n",
              "    </tr>\n",
              "  </thead>\n",
              "  <tbody>\n",
              "    <tr>\n",
              "      <th>0</th>\n",
              "      <td>2.0</td>\n",
              "      <td>3.256837</td>\n",
              "      <td>1346.990179</td>\n",
              "      <td>0.022922</td>\n",
              "      <td>65288.778054</td>\n",
              "      <td>75405.030091</td>\n",
              "      <td>0.068553</td>\n",
              "      <td>73145.089902</td>\n",
              "    </tr>\n",
              "    <tr>\n",
              "      <th>1</th>\n",
              "      <td>3.0</td>\n",
              "      <td>3.204753</td>\n",
              "      <td>756.331905</td>\n",
              "      <td>0.016469</td>\n",
              "      <td>50741.927256</td>\n",
              "      <td>58598.239105</td>\n",
              "      <td>-0.018088</td>\n",
              "      <td>57160.722615</td>\n",
              "    </tr>\n",
              "    <tr>\n",
              "      <th>2</th>\n",
              "      <td>4.0</td>\n",
              "      <td>3.232755</td>\n",
              "      <td>369.637757</td>\n",
              "      <td>0.009914</td>\n",
              "      <td>41479.452427</td>\n",
              "      <td>47898.247786</td>\n",
              "      <td>-0.128445</td>\n",
              "      <td>47436.566137</td>\n",
              "    </tr>\n",
              "    <tr>\n",
              "      <th>3</th>\n",
              "      <td>5.0</td>\n",
              "      <td>3.371271</td>\n",
              "      <td>348.500010</td>\n",
              "      <td>0.010071</td>\n",
              "      <td>38495.614113</td>\n",
              "      <td>44452.727823</td>\n",
              "      <td>-0.109403</td>\n",
              "      <td>44016.661852</td>\n",
              "    </tr>\n",
              "    <tr>\n",
              "      <th>4</th>\n",
              "      <td>6.0</td>\n",
              "      <td>3.490872</td>\n",
              "      <td>324.922011</td>\n",
              "      <td>0.010198</td>\n",
              "      <td>35677.570244</td>\n",
              "      <td>41198.617983</td>\n",
              "      <td>-0.039941</td>\n",
              "      <td>40831.650794</td>\n",
              "    </tr>\n",
              "    <tr>\n",
              "      <th>5</th>\n",
              "      <td>7.0</td>\n",
              "      <td>3.557416</td>\n",
              "      <td>783.206298</td>\n",
              "      <td>0.026603</td>\n",
              "      <td>33247.654419</td>\n",
              "      <td>38401.734968</td>\n",
              "      <td>-0.014070</td>\n",
              "      <td>37975.687740</td>\n",
              "    </tr>\n",
              "    <tr>\n",
              "      <th>6</th>\n",
              "      <td>8.0</td>\n",
              "      <td>3.589687</td>\n",
              "      <td>495.131799</td>\n",
              "      <td>0.018202</td>\n",
              "      <td>30532.523961</td>\n",
              "      <td>35260.557283</td>\n",
              "      <td>-0.043416</td>\n",
              "      <td>35021.012117</td>\n",
              "    </tr>\n",
              "    <tr>\n",
              "      <th>7</th>\n",
              "      <td>9.0</td>\n",
              "      <td>3.653926</td>\n",
              "      <td>539.322842</td>\n",
              "      <td>0.020822</td>\n",
              "      <td>28976.584180</td>\n",
              "      <td>33465.072336</td>\n",
              "      <td>-0.023336</td>\n",
              "      <td>33192.456256</td>\n",
              "    </tr>\n",
              "    <tr>\n",
              "      <th>8</th>\n",
              "      <td>10.0</td>\n",
              "      <td>3.689828</td>\n",
              "      <td>305.047420</td>\n",
              "      <td>0.012566</td>\n",
              "      <td>27239.076491</td>\n",
              "      <td>31454.948567</td>\n",
              "      <td>-0.083701</td>\n",
              "      <td>31418.578424</td>\n",
              "    </tr>\n",
              "    <tr>\n",
              "      <th>9</th>\n",
              "      <td>11.0</td>\n",
              "      <td>3.784066</td>\n",
              "      <td>251.606032</td>\n",
              "      <td>0.010538</td>\n",
              "      <td>27007.977611</td>\n",
              "      <td>31187.479544</td>\n",
              "      <td>-0.027881</td>\n",
              "      <td>30907.168637</td>\n",
              "    </tr>\n",
              "    <tr>\n",
              "      <th>10</th>\n",
              "      <td>12.0</td>\n",
              "      <td>3.821683</td>\n",
              "      <td>216.724347</td>\n",
              "      <td>0.009736</td>\n",
              "      <td>25197.810489</td>\n",
              "      <td>29097.001515</td>\n",
              "      <td>-0.032470</td>\n",
              "      <td>28953.658118</td>\n",
              "    </tr>\n",
              "    <tr>\n",
              "      <th>11</th>\n",
              "      <td>13.0</td>\n",
              "      <td>3.870898</td>\n",
              "      <td>359.660659</td>\n",
              "      <td>0.016746</td>\n",
              "      <td>24258.280888</td>\n",
              "      <td>28014.128517</td>\n",
              "      <td>-0.040785</td>\n",
              "      <td>27968.269409</td>\n",
              "    </tr>\n",
              "    <tr>\n",
              "      <th>12</th>\n",
              "      <td>14.0</td>\n",
              "      <td>3.930019</td>\n",
              "      <td>386.647128</td>\n",
              "      <td>0.018336</td>\n",
              "      <td>23958.457053</td>\n",
              "      <td>27668.445574</td>\n",
              "      <td>0.004105</td>\n",
              "      <td>27452.609193</td>\n",
              "    </tr>\n",
              "    <tr>\n",
              "      <th>13</th>\n",
              "      <td>15.0</td>\n",
              "      <td>3.946751</td>\n",
              "      <td>412.634954</td>\n",
              "      <td>0.020837</td>\n",
              "      <td>22558.387846</td>\n",
              "      <td>26052.539987</td>\n",
              "      <td>-0.015630</td>\n",
              "      <td>25923.432640</td>\n",
              "    </tr>\n",
              "    <tr>\n",
              "      <th>14</th>\n",
              "      <td>16.0</td>\n",
              "      <td>3.971795</td>\n",
              "      <td>180.718551</td>\n",
              "      <td>0.009413</td>\n",
              "      <td>21746.386704</td>\n",
              "      <td>25111.431497</td>\n",
              "      <td>-0.045312</td>\n",
              "      <td>25031.547767</td>\n",
              "    </tr>\n",
              "    <tr>\n",
              "      <th>15</th>\n",
              "      <td>17.0</td>\n",
              "      <td>4.028181</td>\n",
              "      <td>207.684967</td>\n",
              "      <td>0.011074</td>\n",
              "      <td>21228.031993</td>\n",
              "      <td>24513.193055</td>\n",
              "      <td>-0.006847</td>\n",
              "      <td>24478.211557</td>\n",
              "    </tr>\n",
              "    <tr>\n",
              "      <th>16</th>\n",
              "      <td>18.0</td>\n",
              "      <td>4.071664</td>\n",
              "      <td>672.483801</td>\n",
              "      <td>0.036636</td>\n",
              "      <td>20928.869002</td>\n",
              "      <td>24179.048566</td>\n",
              "      <td>-0.028506</td>\n",
              "      <td>24120.284643</td>\n",
              "    </tr>\n",
              "    <tr>\n",
              "      <th>17</th>\n",
              "      <td>19.0</td>\n",
              "      <td>4.112919</td>\n",
              "      <td>230.534677</td>\n",
              "      <td>0.012748</td>\n",
              "      <td>20620.016271</td>\n",
              "      <td>23811.431911</td>\n",
              "      <td>0.001555</td>\n",
              "      <td>23681.014340</td>\n",
              "    </tr>\n",
              "    <tr>\n",
              "      <th>18</th>\n",
              "      <td>20.0</td>\n",
              "      <td>4.128573</td>\n",
              "      <td>300.374358</td>\n",
              "      <td>0.017209</td>\n",
              "      <td>19769.571142</td>\n",
              "      <td>22830.569211</td>\n",
              "      <td>NaN</td>\n",
              "      <td>NaN</td>\n",
              "    </tr>\n",
              "  </tbody>\n",
              "</table>\n",
              "</div>\n",
              "      <button class=\"colab-df-convert\" onclick=\"convertToInteractive('df-37b73439-3b11-42f6-850d-d89cefe1911b')\"\n",
              "              title=\"Convert this dataframe to an interactive table.\"\n",
              "              style=\"display:none;\">\n",
              "        \n",
              "  <svg xmlns=\"http://www.w3.org/2000/svg\" height=\"24px\"viewBox=\"0 0 24 24\"\n",
              "       width=\"24px\">\n",
              "    <path d=\"M0 0h24v24H0V0z\" fill=\"none\"/>\n",
              "    <path d=\"M18.56 5.44l.94 2.06.94-2.06 2.06-.94-2.06-.94-.94-2.06-.94 2.06-2.06.94zm-11 1L8.5 8.5l.94-2.06 2.06-.94-2.06-.94L8.5 2.5l-.94 2.06-2.06.94zm10 10l.94 2.06.94-2.06 2.06-.94-2.06-.94-.94-2.06-.94 2.06-2.06.94z\"/><path d=\"M17.41 7.96l-1.37-1.37c-.4-.4-.92-.59-1.43-.59-.52 0-1.04.2-1.43.59L10.3 9.45l-7.72 7.72c-.78.78-.78 2.05 0 2.83L4 21.41c.39.39.9.59 1.41.59.51 0 1.02-.2 1.41-.59l7.78-7.78 2.81-2.81c.8-.78.8-2.07 0-2.86zM5.41 20L4 18.59l7.72-7.72 1.47 1.35L5.41 20z\"/>\n",
              "  </svg>\n",
              "      </button>\n",
              "      \n",
              "  <style>\n",
              "    .colab-df-container {\n",
              "      display:flex;\n",
              "      flex-wrap:wrap;\n",
              "      gap: 12px;\n",
              "    }\n",
              "\n",
              "    .colab-df-convert {\n",
              "      background-color: #E8F0FE;\n",
              "      border: none;\n",
              "      border-radius: 50%;\n",
              "      cursor: pointer;\n",
              "      display: none;\n",
              "      fill: #1967D2;\n",
              "      height: 32px;\n",
              "      padding: 0 0 0 0;\n",
              "      width: 32px;\n",
              "    }\n",
              "\n",
              "    .colab-df-convert:hover {\n",
              "      background-color: #E2EBFA;\n",
              "      box-shadow: 0px 1px 2px rgba(60, 64, 67, 0.3), 0px 1px 3px 1px rgba(60, 64, 67, 0.15);\n",
              "      fill: #174EA6;\n",
              "    }\n",
              "\n",
              "    [theme=dark] .colab-df-convert {\n",
              "      background-color: #3B4455;\n",
              "      fill: #D2E3FC;\n",
              "    }\n",
              "\n",
              "    [theme=dark] .colab-df-convert:hover {\n",
              "      background-color: #434B5C;\n",
              "      box-shadow: 0px 1px 3px 1px rgba(0, 0, 0, 0.15);\n",
              "      filter: drop-shadow(0px 1px 2px rgba(0, 0, 0, 0.3));\n",
              "      fill: #FFFFFF;\n",
              "    }\n",
              "  </style>\n",
              "\n",
              "      <script>\n",
              "        const buttonEl =\n",
              "          document.querySelector('#df-37b73439-3b11-42f6-850d-d89cefe1911b button.colab-df-convert');\n",
              "        buttonEl.style.display =\n",
              "          google.colab.kernel.accessAllowed ? 'block' : 'none';\n",
              "\n",
              "        async function convertToInteractive(key) {\n",
              "          const element = document.querySelector('#df-37b73439-3b11-42f6-850d-d89cefe1911b');\n",
              "          const dataTable =\n",
              "            await google.colab.kernel.invokeFunction('convertToInteractive',\n",
              "                                                     [key], {});\n",
              "          if (!dataTable) return;\n",
              "\n",
              "          const docLinkHtml = 'Like what you see? Visit the ' +\n",
              "            '<a target=\"_blank\" href=https://colab.research.google.com/notebooks/data_table.ipynb>data table notebook</a>'\n",
              "            + ' to learn more about interactive tables.';\n",
              "          element.innerHTML = '';\n",
              "          dataTable['output_type'] = 'display_data';\n",
              "          await google.colab.output.renderOutput(dataTable, element);\n",
              "          const docLink = document.createElement('div');\n",
              "          docLink.innerHTML = docLinkHtml;\n",
              "          element.appendChild(docLink);\n",
              "        }\n",
              "      </script>\n",
              "    </div>\n",
              "  </div>\n",
              "  "
            ]
          },
          "metadata": {},
          "execution_count": 197
        }
      ]
    },
    {
      "cell_type": "markdown",
      "source": [
        "The gap statistic is the difference in the dispersion of the clusters from the data features and null features. Clusters are formed using 2–20 centroids, and the method is reinitialized for 100 iterations using different randomly chosen centroid seeds, with the final model having the lowest dispersion from the cluster centers. For each of the 2–20 number of centroids, 19 total, the process is repeated 500 times using a population of 15,000 ran- domly selected data features to assess the total inertia mean and deviation for each number of clusters."
      ],
      "metadata": {
        "id": "u2dcmDXFx5tL"
      }
    },
    {
      "cell_type": "code",
      "source": [
        "gap = []\n",
        "gap_avg = []\n",
        "for k in range(2, 21):\n",
        "    for i in range(100):\n",
        "        #--------------------create a wrapper around OptimalK to extract cluster centers and cluster labels\n",
        "        optimalK = OptimalK(clusterer=KMeans_clustering_func)\n",
        "        #--------------------Run optimal K on the input data (subset_scaled_interim) and number of clusters\n",
        "        n_clusters = optimalK(wpca, cluster_array=np.arange(k, k+1))\n",
        "        #--------------------Gap Statistics data frame\n",
        "        optimalK.gap_df[['n_clusters', 'gap_value']]\n",
        "        gap.append(optimalK.gap_df['gap_value'])\n",
        "chunk_size = 100\n",
        "\n",
        "for i in range(0, len(gap), chunk_size):\n",
        "    mean_value = np.mean(gap[i:i+chunk_size])\n",
        "    gap_avg.append(mean_value)\n",
        "gap_avg"
      ],
      "metadata": {
        "id": "hwPrC6oHiYvT",
        "colab": {
          "base_uri": "https://localhost:8080/"
        },
        "outputId": "67768bee-d4a1-44b2-9454-ee3cc840aa78"
      },
      "execution_count": null,
      "outputs": [
        {
          "output_type": "execute_result",
          "data": {
            "text/plain": [
              "[3.240775803176515,\n",
              " 3.198261869053373,\n",
              " 3.2377441625517265,\n",
              " 3.3634828765942406,\n",
              " 3.4780071399695585,\n",
              " 3.5441021616903767,\n",
              " 3.5941071133922957,\n",
              " 3.653730491802074,\n",
              " 3.700475975561991,\n",
              " 3.760951053661646,\n",
              " 3.8256506664965406,\n",
              " 3.8756365155595085,\n",
              " 3.9128766814009377,\n",
              " 3.9580453595462126,\n",
              " 3.9906049284547054,\n",
              " 4.043596217060402,\n",
              " 4.0723592636236905,\n",
              " 4.101781245594169,\n",
              " 4.133974896500489]"
            ]
          },
          "metadata": {},
          "execution_count": 189
        }
      ]
    },
    {
      "cell_type": "code",
      "source": [
        "import numpy as np\n",
        "import matplotlib.pyplot as plt\n",
        "\n",
        "\n",
        "data_points = gap_avg\n",
        "rate_of_change = np.divide(gap_differences, gap_avg[:-1])\n",
        "\n",
        "\n",
        "fig, ax1 = plt.subplots()\n",
        "ax2 = ax1.twinx()\n",
        "\n",
        "\n",
        "ax1.plot(range(len(data_points)), data_points, 'bo-', label='Data Points')\n",
        "plt.xticks(range(1, 20))\n",
        "\n",
        "ax2.plot(range(2,20), rate_of_change, 'k--', label='Rate of Change')\n",
        "\n",
        "\n",
        "ax1.set_xlabel('Index')\n",
        "ax1.set_ylabel('Gap')\n",
        "ax2.set_ylabel('$\\Delta Gap$')\n",
        "plt.title('Data Points and Rate of Change')\n",
        "ax1.legend()\n",
        "ax2.legend()\n",
        "\n",
        "\n",
        "ax2.tick_params(axis='y', labelcolor='k')\n"
      ],
      "metadata": {
        "colab": {
          "base_uri": "https://localhost:8080/",
          "height": 472
        },
        "id": "IFnBNeX__Hl8",
        "outputId": "552f6c09-e7c2-4a86-8f0f-ab3280033661"
      },
      "execution_count": null,
      "outputs": [
        {
          "output_type": "display_data",
          "data": {
            "text/plain": [
              "<Figure size 640x480 with 2 Axes>"
            ],
            "image/png": "[encoded data removed]"
          },
          "metadata": {}
        }
      ]
    },
    {
      "cell_type": "markdown",
      "source": [
        "Second Method"
      ],
      "metadata": {
        "id": "wnKYI4rpwZmY"
      }
    }
  ],
  "metadata": {
    "hide_input": false,
    "kernelspec": {
      "display_name": "Python 3",
      "language": "python",
      "name": "python3"
    },
    "language_info": {
      "codemirror_mode": {
        "name": "ipython",
        "version": 3
      },
      "file_extension": ".py",
      "mimetype": "text/x-python",
      "name": "python",
      "nbconvert_exporter": "python",
      "pygments_lexer": "ipython3",
      "version": "3.7.6"
    },
    "colab": {
      "provenance": [],
      "collapsed_sections": [
        "U0GfVV9ZDmW_"
      ]
    }
  },
  "nbformat": 4,
  "nbformat_minor": 0
}