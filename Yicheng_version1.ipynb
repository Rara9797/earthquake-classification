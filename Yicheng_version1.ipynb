{
  "cells": [
    {
      "cell_type": "markdown",
      "metadata": {
        "id": "HGFHGyPTdxja"
      },
      "source": [
        "\n",
        "## Yicheng May 2023"
      ]
    },
    {
      "cell_type": "markdown",
      "metadata": {
        "id": "bXnGDWEZdxjc"
      },
      "source": [
        "Import libraries, define filenames and folder paths:"
      ]
    },
    {
      "cell_type": "code",
      "source": [
        "from google.colab import drive\n",
        "drive.mount('/content/drive')\n",
        "%cd \"/content/drive/MyDrive\""
      ],
      "metadata": {
        "colab": {
          "base_uri": "https://localhost:8080/"
        },
        "id": "l-Mdtfjxyp09",
        "outputId": "fa5d9ec6-5c74-4c08-9b85-77c2e75dcce9"
      },
      "execution_count": 1,
      "outputs": [
        {
          "output_type": "stream",
          "name": "stdout",
          "text": [
            "Drive already mounted at /content/drive; to attempt to forcibly remount, call drive.mount(\"/content/drive\", force_remount=True).\n",
            "/content/drive/MyDrive\n"
          ]
        }
      ]
    },
    {
      "cell_type": "code",
      "source": [
        "import h5py\n",
        "file_path = \"ev0000364000.h5\""
      ],
      "metadata": {
        "id": "DMLTleFuypq9"
      },
      "execution_count": 2,
      "outputs": []
    },
    {
      "cell_type": "code",
      "source": [
        "# Open the file\n",
        "f = h5py.File(file_path, 'r')\n",
        "f"
      ],
      "metadata": {
        "colab": {
          "base_uri": "https://localhost:8080/"
        },
        "id": "fljNt9VBypid",
        "outputId": "4cecd747-3c41-4ba8-b01d-04c2100f657b"
      },
      "execution_count": 3,
      "outputs": [
        {
          "output_type": "execute_result",
          "data": {
            "text/plain": [
              "<HDF5 file \"ev0000364000.h5\" (mode r)>"
            ]
          },
          "metadata": {},
          "execution_count": 3
        }
      ]
    },
    {
      "cell_type": "code",
      "source": [
        "# List all the attributes for the file\n",
        "list(f.attrs.keys())"
      ],
      "metadata": {
        "colab": {
          "base_uri": "https://localhost:8080/"
        },
        "id": "5M4_XJ5BypcW",
        "outputId": "2f2d7ffd-2885-431d-dbb4-e117e131d3b8"
      },
      "execution_count": 4,
      "outputs": [
        {
          "output_type": "execute_result",
          "data": {
            "text/plain": [
              "['ele', 'lat', 'lon', 'mag', 'time']"
            ]
          },
          "metadata": {},
          "execution_count": 4
        }
      ]
    },
    {
      "cell_type": "code",
      "source": [
        "# List of the stations\n",
        "list(f.keys())"
      ],
      "metadata": {
        "colab": {
          "base_uri": "https://localhost:8080/"
        },
        "id": "_MmRHi-BypQm",
        "outputId": "1102f86f-8c0d-4abd-9736-001a0c56aa44"
      },
      "execution_count": 5,
      "outputs": [
        {
          "output_type": "execute_result",
          "data": {
            "text/plain": [
              "['IWEH', 'KI2H', 'MKJH', 'NMEH']"
            ]
          },
          "metadata": {},
          "execution_count": 5
        }
      ]
    },
    {
      "cell_type": "code",
      "source": [
        "# Shape of the data for a station\n",
        "dset = f['IWEH']\n",
        "dset.shape"
      ],
      "metadata": {
        "colab": {
          "base_uri": "https://localhost:8080/"
        },
        "id": "hu83eZhw2AjJ",
        "outputId": "5b49d929-8282-4a02-c8c3-e941be2700d3"
      },
      "execution_count": 6,
      "outputs": [
        {
          "output_type": "execute_result",
          "data": {
            "text/plain": [
              "(3, 270000000)"
            ]
          },
          "metadata": {},
          "execution_count": 6
        }
      ]
    },
    {
      "cell_type": "code",
      "source": [
        "dset.shape[1]/(100*60*60*24)"
      ],
      "metadata": {
        "colab": {
          "base_uri": "https://localhost:8080/"
        },
        "id": "jIAQ2H4h2AgY",
        "outputId": "a6a92456-5130-4aed-c7b9-20d5c2616002"
      },
      "execution_count": 7,
      "outputs": [
        {
          "output_type": "execute_result",
          "data": {
            "text/plain": [
              "31.25"
            ]
          },
          "metadata": {},
          "execution_count": 7
        }
      ]
    },
    {
      "cell_type": "code",
      "source": [
        "# List of attributes for the station\n",
        "list(dset.attrs.keys())"
      ],
      "metadata": {
        "colab": {
          "base_uri": "https://localhost:8080/"
        },
        "id": "x-AUWHEn2AYe",
        "outputId": "7ee2567d-ba31-48e4-a4d6-ade23036a952"
      },
      "execution_count": 8,
      "outputs": [
        {
          "output_type": "execute_result",
          "data": {
            "text/plain": [
              "['dist_m', 'ele', 'lat', 'lon']"
            ]
          },
          "metadata": {},
          "execution_count": 8
        }
      ]
    },
    {
      "cell_type": "code",
      "source": [
        "# Access the distance in meters of the station from the event\n",
        "print(dset.attrs['dist_m'],\n",
        "dset.attrs['ele'],\n",
        "dset.attrs['lat'],\n",
        "dset.attrs['lon'])"
      ],
      "metadata": {
        "colab": {
          "base_uri": "https://localhost:8080/"
        },
        "id": "ofy-qROo2AVt",
        "outputId": "1444ed9d-6771-40fd-a21e-bf23294d0a99"
      },
      "execution_count": 9,
      "outputs": [
        {
          "output_type": "stream",
          "name": "stdout",
          "text": [
            "0120189 -145 37.0264 140.9702\n"
          ]
        }
      ]
    },
    {
      "cell_type": "code",
      "source": [
        "# Find the distance for all the stations\n",
        "for k in f.keys():\n",
        "    print(k,f[k].attrs['dist_m'])"
      ],
      "metadata": {
        "colab": {
          "base_uri": "https://localhost:8080/"
        },
        "id": "vBSDuDWX2ATB",
        "outputId": "37e8e74b-6b0e-4468-a647-d84eb8d531f2"
      },
      "execution_count": 10,
      "outputs": [
        {
          "output_type": "stream",
          "name": "stdout",
          "text": [
            "IWEH 0120189\n",
            "KI2H 0149570\n",
            "MKJH 0149240\n",
            "NMEH 0128023\n"
          ]
        }
      ]
    },
    {
      "cell_type": "code",
      "source": [
        "# Extract a portion of the data from numerous stations\n",
        "\n",
        "import numpy as np\n",
        "\n",
        "# List of stations to consider\n",
        "stations_list = ['IWEH', 'KI2H', 'MKJH','NMEH']\n",
        "\n",
        "# Start and end index values for the portion of data to extract\n",
        "# 24*3600*100 is 24 hours of data at 100 Hzone day of data.\n",
        "# this example outputs firt hour of second day:\n",
        "start = 24*3600*100\n",
        "end = 25*3600*100\n",
        "\n",
        "# Number of channels\n",
        "num_channels = 3\n",
        "\n",
        "# Allocate the space to save the extracted data\n",
        "data = np.empty((len(stations_list),num_channels,end-start,))\n",
        "\n",
        "for i in range(len(stations_list)):\n",
        "    data[i,0:num_channels,:] = f[stations_list[i]][0:num_channels,start:end]\n",
        "    \n",
        "print(data.shape)"
      ],
      "metadata": {
        "colab": {
          "base_uri": "https://localhost:8080/"
        },
        "id": "X3E2iBoq2AQN",
        "outputId": "4a37e7ae-c911-4834-da85-bc20df4cdcd2"
      },
      "execution_count": 11,
      "outputs": [
        {
          "output_type": "stream",
          "name": "stdout",
          "text": [
            "(4, 3, 360000)\n"
          ]
        }
      ]
    },
    {
      "cell_type": "code",
      "source": [
        "# Save the extracted data to file\n",
        "np.save('data1.npy', data)"
      ],
      "metadata": {
        "id": "dtzMw0Zc2ANO"
      },
      "execution_count": 12,
      "outputs": []
    },
    {
      "cell_type": "code",
      "source": [
        "# Use 5 seconds time window as cutoff for the first station and first channel\n",
        "\n",
        "datadivided = list()\n",
        "for i in range(720):#360000/100/5\n",
        "    datadivided.append(data[0,0,500*i:500*(i+1)])\n"
      ],
      "metadata": {
        "id": "f-eH8vrl4RS_"
      },
      "execution_count": 13,
      "outputs": []
    },
    {
      "cell_type": "code",
      "source": [
        "datadivided[666].shape"
      ],
      "metadata": {
        "colab": {
          "base_uri": "https://localhost:8080/"
        },
        "id": "9cqU51FDvLiq",
        "outputId": "4a6b32fa-892b-43b7-ecfc-f8643ede0138"
      },
      "execution_count": 14,
      "outputs": [
        {
          "output_type": "execute_result",
          "data": {
            "text/plain": [
              "(500,)"
            ]
          },
          "metadata": {},
          "execution_count": 14
        }
      ]
    },
    {
      "cell_type": "code",
      "source": [
        "%matplotlib inline\n",
        "from matplotlib import pyplot as plt"
      ],
      "metadata": {
        "id": "gJUoDd612AKN"
      },
      "execution_count": 15,
      "outputs": []
    },
    {
      "cell_type": "code",
      "source": [
        "%matplotlib inline\n",
        "fig,ax=plt.subplots(3)\n",
        "ax[0].plot(datadivided[0],'k-')\n",
        "ax[1].plot(datadivided[1],'k-')\n",
        "ax[2].plot(datadivided[2],'k-')"
      ],
      "metadata": {
        "colab": {
          "base_uri": "https://localhost:8080/",
          "height": 448
        },
        "id": "Xsjkb16y2AHF",
        "outputId": "a728d55b-4103-4528-d6ac-94ed4d695927"
      },
      "execution_count": 16,
      "outputs": [
        {
          "output_type": "execute_result",
          "data": {
            "text/plain": [
              "[<matplotlib.lines.Line2D at 0x7f50682bae00>]"
            ]
          },
          "metadata": {},
          "execution_count": 16
        },
        {
          "output_type": "display_data",
          "data": {
            "text/plain": [
              "<Figure size 640x480 with 3 Axes>"
            ],
            "image/png": "[encoded data removed]"
          },
          "metadata": {}
        }
      ]
    },
    {
      "cell_type": "markdown",
      "metadata": {
        "id": "NHF-Q5Ttdxje"
      },
      "source": [
        "Use obspy library to apply 1HZ high-pass filter"
      ]
    },
    {
      "cell_type": "code",
      "source": [
        "pip install obspy"
      ],
      "metadata": {
        "colab": {
          "base_uri": "https://localhost:8080/"
        },
        "id": "E_UMh-xkuYAN",
        "outputId": "4f64e2c6-3def-460b-c7af-75f2dab1e820"
      },
      "execution_count": 17,
      "outputs": [
        {
          "output_type": "stream",
          "name": "stdout",
          "text": [
            "Looking in indexes: https://pypi.org/simple, https://us-python.pkg.dev/colab-wheels/public/simple/\n",
            "Requirement already satisfied: obspy in /usr/local/lib/python3.10/dist-packages (1.4.0)\n",
            "Requirement already satisfied: numpy>=1.20 in /usr/local/lib/python3.10/dist-packages (from obspy) (1.22.4)\n",
            "Requirement already satisfied: scipy>=1.7 in /usr/local/lib/python3.10/dist-packages (from obspy) (1.10.1)\n",
            "Requirement already satisfied: matplotlib>=3.3 in /usr/local/lib/python3.10/dist-packages (from obspy) (3.7.1)\n",
            "Requirement already satisfied: lxml in /usr/local/lib/python3.10/dist-packages (from obspy) (4.9.2)\n",
            "Requirement already satisfied: setuptools in /usr/local/lib/python3.10/dist-packages (from obspy) (67.7.2)\n",
            "Requirement already satisfied: sqlalchemy in /usr/local/lib/python3.10/dist-packages (from obspy) (2.0.10)\n",
            "Requirement already satisfied: decorator in /usr/local/lib/python3.10/dist-packages (from obspy) (4.4.2)\n",
            "Requirement already satisfied: requests in /usr/local/lib/python3.10/dist-packages (from obspy) (2.27.1)\n",
            "Requirement already satisfied: contourpy>=1.0.1 in /usr/local/lib/python3.10/dist-packages (from matplotlib>=3.3->obspy) (1.0.7)\n",
            "Requirement already satisfied: cycler>=0.10 in /usr/local/lib/python3.10/dist-packages (from matplotlib>=3.3->obspy) (0.11.0)\n",
            "Requirement already satisfied: fonttools>=4.22.0 in /usr/local/lib/python3.10/dist-packages (from matplotlib>=3.3->obspy) (4.39.3)\n",
            "Requirement already satisfied: kiwisolver>=1.0.1 in /usr/local/lib/python3.10/dist-packages (from matplotlib>=3.3->obspy) (1.4.4)\n",
            "Requirement already satisfied: packaging>=20.0 in /usr/local/lib/python3.10/dist-packages (from matplotlib>=3.3->obspy) (23.1)\n",
            "Requirement already satisfied: pillow>=6.2.0 in /usr/local/lib/python3.10/dist-packages (from matplotlib>=3.3->obspy) (8.4.0)\n",
            "Requirement already satisfied: pyparsing>=2.3.1 in /usr/local/lib/python3.10/dist-packages (from matplotlib>=3.3->obspy) (3.0.9)\n",
            "Requirement already satisfied: python-dateutil>=2.7 in /usr/local/lib/python3.10/dist-packages (from matplotlib>=3.3->obspy) (2.8.2)\n",
            "Requirement already satisfied: urllib3<1.27,>=1.21.1 in /usr/local/lib/python3.10/dist-packages (from requests->obspy) (1.26.15)\n",
            "Requirement already satisfied: certifi>=2017.4.17 in /usr/local/lib/python3.10/dist-packages (from requests->obspy) (2022.12.7)\n",
            "Requirement already satisfied: charset-normalizer~=2.0.0 in /usr/local/lib/python3.10/dist-packages (from requests->obspy) (2.0.12)\n",
            "Requirement already satisfied: idna<4,>=2.5 in /usr/local/lib/python3.10/dist-packages (from requests->obspy) (3.4)\n",
            "Requirement already satisfied: typing-extensions>=4.2.0 in /usr/local/lib/python3.10/dist-packages (from sqlalchemy->obspy) (4.5.0)\n",
            "Requirement already satisfied: greenlet!=0.4.17 in /usr/local/lib/python3.10/dist-packages (from sqlalchemy->obspy) (2.0.2)\n",
            "Requirement already satisfied: six>=1.5 in /usr/local/lib/python3.10/dist-packages (from python-dateutil>=2.7->matplotlib>=3.3->obspy) (1.16.0)\n"
          ]
        }
      ]
    },
    {
      "cell_type": "code",
      "execution_count": 18,
      "metadata": {
        "id": "ypBE1NtEdxjd"
      },
      "outputs": [],
      "source": [
        "import matplotlib.pyplot as plt\n",
        "import numpy as np\n",
        "from scipy.fftpack import fft, ifft\n",
        "from scipy.fft import fft, fftfreq\n",
        "import matplotlib\n",
        "import matplotlib.pyplot as plt\n",
        "%matplotlib notebook\n",
        "from pylab import plot, xlabel, ylabel\n",
        "from scipy import arange\n",
        "from scipy import signal\n",
        "import obspy as ob\n",
        "import time\n",
        "import warnings\n",
        "#import ipywidgets as widgets\n",
        "#from ipywidgets import *\n",
        "warnings.filterwarnings('ignore')"
      ]
    },
    {
      "cell_type": "code",
      "source": [
        "fq=100.0 # frequency of input signal\\n\","
      ],
      "metadata": {
        "id": "Z-d2E3L33ps7"
      },
      "execution_count": 19,
      "outputs": []
    },
    {
      "cell_type": "code",
      "execution_count": 20,
      "metadata": {
        "id": "ZSMG_Tnfdxje"
      },
      "outputs": [],
      "source": [
        "tr=ob.Trace(datadivided[0]) # turn the data in obspy formatted trace\n",
        "tr.stats.delta = 1/fq  # give trace time sampling size\n",
        "trf=tr.filter(\"highpass\", freq=1.0)   # apply high-pass filter"
      ]
    },
    {
      "cell_type": "code",
      "execution_count": 21,
      "metadata": {
        "id": "AnkH_j7ddxjf",
        "colab": {
          "base_uri": "https://localhost:8080/",
          "height": 430
        },
        "outputId": "7d80d4d0-380d-47a5-efeb-c1cc7f6cbfe2"
      },
      "outputs": [
        {
          "output_type": "display_data",
          "data": {
            "text/plain": [
              "<Figure size 640x480 with 2 Axes>"
            ],
            "image/png": "[encoded data removed]"
          },
          "metadata": {}
        }
      ],
      "source": [
        "%matplotlib inline\n",
        "fig,ax=plt.subplots(2)\n",
        "ax[0].plot(datadivided[0]);\n",
        "ax[1].plot(trf);"
      ]
    },
    {
      "cell_type": "code",
      "source": [
        "datafiltered = list()\n",
        "\n",
        "for i in range(len(datadivided)): \n",
        "    tr=ob.Trace(datadivided[i]) # turn the data in obspy formatted trace\n",
        "    tr.stats.delta = 1/fq  # give trace time sampling size\n",
        "    datafiltered.append(tr.filter(\"highpass\", freq=1.0).data)  # apply high-pass filter"
      ],
      "metadata": {
        "id": "mvu_oAaF-ALs"
      },
      "execution_count": 22,
      "outputs": []
    },
    {
      "cell_type": "markdown",
      "source": [
        "Featrue Extraction"
      ],
      "metadata": {
        "id": "3tPRXgLM_rM3"
      }
    },
    {
      "cell_type": "code",
      "source": [
        "print(len(datafiltered))\n",
        "\n",
        "type(datafiltered[0])"
      ],
      "metadata": {
        "colab": {
          "base_uri": "https://localhost:8080/"
        },
        "id": "Qymj09QX_owZ",
        "outputId": "19986b46-096c-464b-dd86-4a92e70a4c46"
      },
      "execution_count": 23,
      "outputs": [
        {
          "output_type": "stream",
          "name": "stdout",
          "text": [
            "720\n"
          ]
        },
        {
          "output_type": "execute_result",
          "data": {
            "text/plain": [
              "numpy.ndarray"
            ]
          },
          "metadata": {},
          "execution_count": 23
        }
      ]
    },
    {
      "cell_type": "markdown",
      "source": [
        "For each waveform, feature vectors are calculated to use in clustering analysis. The data features are time and frequency domain scalar values that include the integral of the squared waveform, maximum spectral amplitude, frequency at the maximum spectral amplitude, center frequency, signal bandwidth, zero upcrossing rate, and the rate of spectral peaks"
      ],
      "metadata": {
        "id": "t2HFWcQrEX56"
      }
    },
    {
      "cell_type": "markdown",
      "source": [
        "First using fourier transform to get the frequency domain values"
      ],
      "metadata": {
        "id": "MEGeEpLNnWbX"
      }
    },
    {
      "cell_type": "code",
      "source": [
        "\n",
        "fs=100#HZ sampling freq\n",
        "t= np.arange(0,5,1/fs) #time interval\n",
        "f = 100;# signal freq\n",
        "# generate frequency axis \n",
        "n=np.size(t)# number of samples\n",
        "fi = np.linspace(0,int(fs/2),int(n/2))#freq interval\n",
        "\n",
        "datafft = list()#spectral_amplitudes\n",
        "\n",
        "# Calculate the Fourier transform of the waveform\n",
        "for i in range(len(datafiltered)):\n",
        "    datafft.append(fft(datafiltered[i])[0: int(n/2)])# #spectral_amplitudes\n"
      ],
      "metadata": {
        "id": "kekB633C43uE"
      },
      "execution_count": 24,
      "outputs": []
    },
    {
      "cell_type": "code",
      "source": [
        "%matplotlib inline\n",
        "fig,ax=plt.subplots(2)\n",
        "ax[0].plot(fi,np.abs(datafft[10]));\n",
        "ax[1].plot(datafiltered[10]); "
      ],
      "metadata": {
        "colab": {
          "base_uri": "https://localhost:8080/",
          "height": 430
        },
        "id": "MTHpcVWLWOUN",
        "outputId": "06a2ff72-b4d6-4041-eedc-f3c07cbede9d"
      },
      "execution_count": 25,
      "outputs": [
        {
          "output_type": "display_data",
          "data": {
            "text/plain": [
              "<Figure size 640x480 with 2 Axes>"
            ],
            "image/png": "[encoded data removed]"
          },
          "metadata": {}
        }
      ]
    },
    {
      "cell_type": "markdown",
      "source": [
        "Get the intergral of squared waveform"
      ],
      "metadata": {
        "id": "ZnYyS2Cum_2T"
      }
    },
    {
      "cell_type": "code",
      "source": [
        "integral = list()\n",
        "for i in range(len(datafiltered)):\n",
        "    # Get the waveform data\n",
        "    data = datafiltered[i]\n",
        "\n",
        "    # Square the waveform data\n",
        "    data_squared = data ** 2\n",
        "\n",
        "    # Calculate the integral of the squared data\n",
        "    integral.append(np.sum(data_squared))"
      ],
      "metadata": {
        "id": "fWGZF34-Ma-3"
      },
      "execution_count": 26,
      "outputs": []
    },
    {
      "cell_type": "markdown",
      "source": [
        "Max spectral amplitude:"
      ],
      "metadata": {
        "id": "1OlHGXkY05wg"
      }
    },
    {
      "cell_type": "markdown",
      "source": [
        "Frequency of max spectral amplitude:"
      ],
      "metadata": {
        "id": "5-y0xgSqhFM5"
      }
    },
    {
      "cell_type": "code",
      "source": [
        "#Assuming Fx is a list or array containing the spectral amplitudes and fi is a corresponding list or array containing the frequencies, \n",
        "#this code finds the index of the maximum amplitude and retrieves the corresponding frequency.\n",
        "max_indices = []\n",
        "max_amplitudes = []\n",
        "for array in datafft:\n",
        "    max_index = np.argmax(array)\n",
        "    max_indices.append(max_index)\n",
        "    max_amplitudes.append(array[max_index].real)\n",
        "\n",
        "# Retrieve the corresponding frequencies\n",
        "frequencies = [fi[index] for index in max_indices]"
      ],
      "metadata": {
        "id": "Bu_0JtLfgz0M"
      },
      "execution_count": 27,
      "outputs": []
    },
    {
      "cell_type": "markdown",
      "source": [
        "Center frequency:"
      ],
      "metadata": {
        "id": "--6oX2z4hLDZ"
      }
    },
    {
      "cell_type": "code",
      "source": [
        "#Assuming fi and Fxi are lists or arrays representing frequencies and corresponding \n",
        "#spectral amplitudes, respectively, this code calculates the center frequency \n",
        "#using the given equation.\n",
        "center_frequency = list()\n",
        "for i in range(len(datafiltered)):\n",
        "    numerator = np.sum(fi * datafft[i]).real\n",
        "    denominator = np.sum(datafft[i]).real\n",
        "    center_frequency.append(numerator / denominator)"
      ],
      "metadata": {
        "id": "O2MshlpZgzxH"
      },
      "execution_count": 28,
      "outputs": []
    },
    {
      "cell_type": "markdown",
      "source": [
        "Signal bandwidth:"
      ],
      "metadata": {
        "id": "TUM5rFyGhLhF"
      }
    },
    {
      "cell_type": "code",
      "source": [
        "# Assuming fi and Fxi are lists or arrays representing frequencies and corresponding spectral amplitudes, \n",
        "# and fcenter is the center frequency, this code calculates the signal bandwidth using the given equation.\n",
        "signal_bandwidth = list()\n",
        "for i in range(len(datafiltered)):\n",
        "    numerator = np.sum((fi - center_frequency[i])**2)\n",
        "    denominator = np.sum(datafft[i])\n",
        "    signal_bandwidth.append(np.sqrt(numerator / denominator).real)"
      ],
      "metadata": {
        "id": "XoekbL2hgzuA"
      },
      "execution_count": 29,
      "outputs": []
    },
    {
      "cell_type": "markdown",
      "source": [
        "Zero up-crossing rate:"
      ],
      "metadata": {
        "id": "Ns5rkOWLhvu4"
      }
    },
    {
      "cell_type": "code",
      "source": [
        "# Assuming fi and Fxi are lists or arrays representing frequencies and corresponding \n",
        "# spectral amplitudes, this code calculates the zero up-crossing rate using the given equation.\n",
        "zero_upcrossing_rate = list()\n",
        "for i in range(len(datafiltered)):\n",
        "    omega = 2 * np.pi * fi\n",
        "    numerator = np.sum(omega**2 * datafft[i]**2)\n",
        "    denominator = np.sum(datafft[i]**2)\n",
        "    zero_upcrossing_rate.append(np.sqrt(numerator / denominator).real)"
      ],
      "metadata": {
        "id": "vvvn1z2xgzpu"
      },
      "execution_count": 30,
      "outputs": []
    },
    {
      "cell_type": "markdown",
      "source": [
        "Rate of spectral peaks:"
      ],
      "metadata": {
        "id": "YVZy__7siC6f"
      }
    },
    {
      "cell_type": "code",
      "source": [
        "#Assuming fi and Fxi are lists or arrays representing frequencies and corresponding \n",
        "#spectral amplitudes, this code calculates the rate of spectral peaks using the given equation.\n",
        "rate_of_spectral_peaks = list()\n",
        "for i in range(len(datafiltered)):\n",
        "    omega = 2 * np.pi * fi\n",
        "    numerator = np.sum(omega**4 * datafft[i]**2)\n",
        "    denominator = np.sum(omega**2 * datafft[i]**2)\n",
        "    rate_of_spectral_peaks.append(np.sqrt(numerator / denominator).real)"
      ],
      "metadata": {
        "id": "Grk9WSD7gzl0"
      },
      "execution_count": 31,
      "outputs": []
    },
    {
      "cell_type": "markdown",
      "source": [
        "PCA"
      ],
      "metadata": {
        "id": "cONrM-eQu-f0"
      }
    },
    {
      "cell_type": "code",
      "source": [
        "from sklearn.decomposition import PCA\n",
        "from sklearn.preprocessing import StandardScaler\n",
        "import pandas as pd\n",
        "\n",
        "df = pd.DataFrame(list(zip(integral, max_amplitudes, frequencies, center_frequency, signal_bandwidth,zero_upcrossing_rate,rate_of_spectral_peaks)), \n",
        "                  columns = ['integral of the squared waveform', 'maximum spectral amplitude', 'frequency at the maximum spectral amplitude', \n",
        "                             'center frequency', 'signal bandwidth', 'zero upcrossing rate', 'rate of spectral peaks'])\n",
        "df"
      ],
      "metadata": {
        "id": "v57-w5BxugAw",
        "colab": {
          "base_uri": "https://localhost:8080/",
          "height": 485
        },
        "outputId": "e1f38fff-b22e-4e09-cacb-41a5d47e1129"
      },
      "execution_count": 32,
      "outputs": [
        {
          "output_type": "execute_result",
          "data": {
            "text/plain": [
              "     integral of the squared waveform  maximum spectral amplitude  \\\n",
              "0                        4.450727e+05                 3831.371137   \n",
              "1                        2.753136e+05                 2733.794517   \n",
              "2                        8.620127e+06                12587.276384   \n",
              "3                        1.625990e+06                 1468.060150   \n",
              "4                        1.173240e+07                 9882.829957   \n",
              "..                                ...                         ...   \n",
              "715                      6.465616e+05                 5122.009891   \n",
              "716                      1.275258e+06                 2565.640454   \n",
              "717                      1.496874e+07                15099.423116   \n",
              "718                      6.736727e+05                 4871.738246   \n",
              "719                      1.938254e+05                 3459.355827   \n",
              "\n",
              "     frequency at the maximum spectral amplitude  center frequency  \\\n",
              "0                                       0.602410         17.909420   \n",
              "1                                       1.004016         14.404091   \n",
              "2                                       1.606426         16.387972   \n",
              "3                                       0.401606         14.761540   \n",
              "4                                       0.803213         15.940552   \n",
              "..                                           ...               ...   \n",
              "715                                     1.004016         24.357529   \n",
              "716                                     0.803213         14.276447   \n",
              "717                                     1.807229         16.124562   \n",
              "718                                     1.405622         16.409619   \n",
              "719                                     1.204819         -8.922280   \n",
              "\n",
              "     signal bandwidth  zero upcrossing rate  rate of spectral peaks  \n",
              "0            1.138306             38.861817              210.892013  \n",
              "1            0.217624             18.367710              213.595169  \n",
              "2            0.448876             70.184974              211.661191  \n",
              "3            0.243128             48.683488              212.599692  \n",
              "4            0.113902            103.767189              211.904864  \n",
              "..                ...                   ...                     ...  \n",
              "715          0.671480              5.392850              211.860387  \n",
              "716          0.212875             52.077327              211.846341  \n",
              "717          0.402103             85.612212              211.400923  \n",
              "718          0.932964             52.706116              211.131912  \n",
              "719          7.381238              6.954919              154.903939  \n",
              "\n",
              "[720 rows x 7 columns]"
            ],
            "text/html": [
              "\n",
              "  <div id=\"df-21b7df16-8215-4d25-a7f1-78aa33952e17\">\n",
              "    <div class=\"colab-df-container\">\n",
              "      <div>\n",
              "<style scoped>\n",
              "    .dataframe tbody tr th:only-of-type {\n",
              "        vertical-align: middle;\n",
              "    }\n",
              "\n",
              "    .dataframe tbody tr th {\n",
              "        vertical-align: top;\n",
              "    }\n",
              "\n",
              "    .dataframe thead th {\n",
              "        text-align: right;\n",
              "    }\n",
              "</style>\n",
              "<table border=\"1\" class=\"dataframe\">\n",
              "  <thead>\n",
              "    <tr style=\"text-align: right;\">\n",
              "      <th></th>\n",
              "      <th>integral of the squared waveform</th>\n",
              "      <th>maximum spectral amplitude</th>\n",
              "      <th>frequency at the maximum spectral amplitude</th>\n",
              "      <th>center frequency</th>\n",
              "      <th>signal bandwidth</th>\n",
              "      <th>zero upcrossing rate</th>\n",
              "      <th>rate of spectral peaks</th>\n",
              "    </tr>\n",
              "  </thead>\n",
              "  <tbody>\n",
              "    <tr>\n",
              "      <th>0</th>\n",
              "      <td>4.450727e+05</td>\n",
              "      <td>3831.371137</td>\n",
              "      <td>0.602410</td>\n",
              "      <td>17.909420</td>\n",
              "      <td>1.138306</td>\n",
              "      <td>38.861817</td>\n",
              "      <td>210.892013</td>\n",
              "    </tr>\n",
              "    <tr>\n",
              "      <th>1</th>\n",
              "      <td>2.753136e+05</td>\n",
              "      <td>2733.794517</td>\n",
              "      <td>1.004016</td>\n",
              "      <td>14.404091</td>\n",
              "      <td>0.217624</td>\n",
              "      <td>18.367710</td>\n",
              "      <td>213.595169</td>\n",
              "    </tr>\n",
              "    <tr>\n",
              "      <th>2</th>\n",
              "      <td>8.620127e+06</td>\n",
              "      <td>12587.276384</td>\n",
              "      <td>1.606426</td>\n",
              "      <td>16.387972</td>\n",
              "      <td>0.448876</td>\n",
              "      <td>70.184974</td>\n",
              "      <td>211.661191</td>\n",
              "    </tr>\n",
              "    <tr>\n",
              "      <th>3</th>\n",
              "      <td>1.625990e+06</td>\n",
              "      <td>1468.060150</td>\n",
              "      <td>0.401606</td>\n",
              "      <td>14.761540</td>\n",
              "      <td>0.243128</td>\n",
              "      <td>48.683488</td>\n",
              "      <td>212.599692</td>\n",
              "    </tr>\n",
              "    <tr>\n",
              "      <th>4</th>\n",
              "      <td>1.173240e+07</td>\n",
              "      <td>9882.829957</td>\n",
              "      <td>0.803213</td>\n",
              "      <td>15.940552</td>\n",
              "      <td>0.113902</td>\n",
              "      <td>103.767189</td>\n",
              "      <td>211.904864</td>\n",
              "    </tr>\n",
              "    <tr>\n",
              "      <th>...</th>\n",
              "      <td>...</td>\n",
              "      <td>...</td>\n",
              "      <td>...</td>\n",
              "      <td>...</td>\n",
              "      <td>...</td>\n",
              "      <td>...</td>\n",
              "      <td>...</td>\n",
              "    </tr>\n",
              "    <tr>\n",
              "      <th>715</th>\n",
              "      <td>6.465616e+05</td>\n",
              "      <td>5122.009891</td>\n",
              "      <td>1.004016</td>\n",
              "      <td>24.357529</td>\n",
              "      <td>0.671480</td>\n",
              "      <td>5.392850</td>\n",
              "      <td>211.860387</td>\n",
              "    </tr>\n",
              "    <tr>\n",
              "      <th>716</th>\n",
              "      <td>1.275258e+06</td>\n",
              "      <td>2565.640454</td>\n",
              "      <td>0.803213</td>\n",
              "      <td>14.276447</td>\n",
              "      <td>0.212875</td>\n",
              "      <td>52.077327</td>\n",
              "      <td>211.846341</td>\n",
              "    </tr>\n",
              "    <tr>\n",
              "      <th>717</th>\n",
              "      <td>1.496874e+07</td>\n",
              "      <td>15099.423116</td>\n",
              "      <td>1.807229</td>\n",
              "      <td>16.124562</td>\n",
              "      <td>0.402103</td>\n",
              "      <td>85.612212</td>\n",
              "      <td>211.400923</td>\n",
              "    </tr>\n",
              "    <tr>\n",
              "      <th>718</th>\n",
              "      <td>6.736727e+05</td>\n",
              "      <td>4871.738246</td>\n",
              "      <td>1.405622</td>\n",
              "      <td>16.409619</td>\n",
              "      <td>0.932964</td>\n",
              "      <td>52.706116</td>\n",
              "      <td>211.131912</td>\n",
              "    </tr>\n",
              "    <tr>\n",
              "      <th>719</th>\n",
              "      <td>1.938254e+05</td>\n",
              "      <td>3459.355827</td>\n",
              "      <td>1.204819</td>\n",
              "      <td>-8.922280</td>\n",
              "      <td>7.381238</td>\n",
              "      <td>6.954919</td>\n",
              "      <td>154.903939</td>\n",
              "    </tr>\n",
              "  </tbody>\n",
              "</table>\n",
              "<p>720 rows × 7 columns</p>\n",
              "</div>\n",
              "      <button class=\"colab-df-convert\" onclick=\"convertToInteractive('df-21b7df16-8215-4d25-a7f1-78aa33952e17')\"\n",
              "              title=\"Convert this dataframe to an interactive table.\"\n",
              "              style=\"display:none;\">\n",
              "        \n",
              "  <svg xmlns=\"http://www.w3.org/2000/svg\" height=\"24px\"viewBox=\"0 0 24 24\"\n",
              "       width=\"24px\">\n",
              "    <path d=\"M0 0h24v24H0V0z\" fill=\"none\"/>\n",
              "    <path d=\"M18.56 5.44l.94 2.06.94-2.06 2.06-.94-2.06-.94-.94-2.06-.94 2.06-2.06.94zm-11 1L8.5 8.5l.94-2.06 2.06-.94-2.06-.94L8.5 2.5l-.94 2.06-2.06.94zm10 10l.94 2.06.94-2.06 2.06-.94-2.06-.94-.94-2.06-.94 2.06-2.06.94z\"/><path d=\"M17.41 7.96l-1.37-1.37c-.4-.4-.92-.59-1.43-.59-.52 0-1.04.2-1.43.59L10.3 9.45l-7.72 7.72c-.78.78-.78 2.05 0 2.83L4 21.41c.39.39.9.59 1.41.59.51 0 1.02-.2 1.41-.59l7.78-7.78 2.81-2.81c.8-.78.8-2.07 0-2.86zM5.41 20L4 18.59l7.72-7.72 1.47 1.35L5.41 20z\"/>\n",
              "  </svg>\n",
              "      </button>\n",
              "      \n",
              "  <style>\n",
              "    .colab-df-container {\n",
              "      display:flex;\n",
              "      flex-wrap:wrap;\n",
              "      gap: 12px;\n",
              "    }\n",
              "\n",
              "    .colab-df-convert {\n",
              "      background-color: #E8F0FE;\n",
              "      border: none;\n",
              "      border-radius: 50%;\n",
              "      cursor: pointer;\n",
              "      display: none;\n",
              "      fill: #1967D2;\n",
              "      height: 32px;\n",
              "      padding: 0 0 0 0;\n",
              "      width: 32px;\n",
              "    }\n",
              "\n",
              "    .colab-df-convert:hover {\n",
              "      background-color: #E2EBFA;\n",
              "      box-shadow: 0px 1px 2px rgba(60, 64, 67, 0.3), 0px 1px 3px 1px rgba(60, 64, 67, 0.15);\n",
              "      fill: #174EA6;\n",
              "    }\n",
              "\n",
              "    [theme=dark] .colab-df-convert {\n",
              "      background-color: #3B4455;\n",
              "      fill: #D2E3FC;\n",
              "    }\n",
              "\n",
              "    [theme=dark] .colab-df-convert:hover {\n",
              "      background-color: #434B5C;\n",
              "      box-shadow: 0px 1px 3px 1px rgba(0, 0, 0, 0.15);\n",
              "      filter: drop-shadow(0px 1px 2px rgba(0, 0, 0, 0.3));\n",
              "      fill: #FFFFFF;\n",
              "    }\n",
              "  </style>\n",
              "\n",
              "      <script>\n",
              "        const buttonEl =\n",
              "          document.querySelector('#df-21b7df16-8215-4d25-a7f1-78aa33952e17 button.colab-df-convert');\n",
              "        buttonEl.style.display =\n",
              "          google.colab.kernel.accessAllowed ? 'block' : 'none';\n",
              "\n",
              "        async function convertToInteractive(key) {\n",
              "          const element = document.querySelector('#df-21b7df16-8215-4d25-a7f1-78aa33952e17');\n",
              "          const dataTable =\n",
              "            await google.colab.kernel.invokeFunction('convertToInteractive',\n",
              "                                                     [key], {});\n",
              "          if (!dataTable) return;\n",
              "\n",
              "          const docLinkHtml = 'Like what you see? Visit the ' +\n",
              "            '<a target=\"_blank\" href=https://colab.research.google.com/notebooks/data_table.ipynb>data table notebook</a>'\n",
              "            + ' to learn more about interactive tables.';\n",
              "          element.innerHTML = '';\n",
              "          dataTable['output_type'] = 'display_data';\n",
              "          await google.colab.output.renderOutput(dataTable, element);\n",
              "          const docLink = document.createElement('div');\n",
              "          docLink.innerHTML = docLinkHtml;\n",
              "          element.appendChild(docLink);\n",
              "        }\n",
              "      </script>\n",
              "    </div>\n",
              "  </div>\n",
              "  "
            ]
          },
          "metadata": {},
          "execution_count": 32
        }
      ]
    },
    {
      "cell_type": "code",
      "source": [
        "df.corr()"
      ],
      "metadata": {
        "id": "LO64GtBpzpqJ",
        "outputId": "d7137941-9dc4-40ce-fcb7-406d35a488d1",
        "colab": {
          "base_uri": "https://localhost:8080/",
          "height": 365
        }
      },
      "execution_count": 33,
      "outputs": [
        {
          "output_type": "execute_result",
          "data": {
            "text/plain": [
              "                                             integral of the squared waveform  \\\n",
              "integral of the squared waveform                                     1.000000   \n",
              "maximum spectral amplitude                                           0.833729   \n",
              "frequency at the maximum spectral amplitude                          0.096546   \n",
              "center frequency                                                    -0.014141   \n",
              "signal bandwidth                                                    -0.109639   \n",
              "zero upcrossing rate                                                 0.393205   \n",
              "rate of spectral peaks                                               0.074140   \n",
              "\n",
              "                                             maximum spectral amplitude  \\\n",
              "integral of the squared waveform                               0.833729   \n",
              "maximum spectral amplitude                                     1.000000   \n",
              "frequency at the maximum spectral amplitude                    0.244202   \n",
              "center frequency                                              -0.009803   \n",
              "signal bandwidth                                              -0.125211   \n",
              "zero upcrossing rate                                           0.404194   \n",
              "rate of spectral peaks                                         0.081362   \n",
              "\n",
              "                                             frequency at the maximum spectral amplitude  \\\n",
              "integral of the squared waveform                                                0.096546   \n",
              "maximum spectral amplitude                                                      0.244202   \n",
              "frequency at the maximum spectral amplitude                                     1.000000   \n",
              "center frequency                                                               -0.036427   \n",
              "signal bandwidth                                                                0.008501   \n",
              "zero upcrossing rate                                                            0.130934   \n",
              "rate of spectral peaks                                                          0.100722   \n",
              "\n",
              "                                             center frequency  \\\n",
              "integral of the squared waveform                    -0.014141   \n",
              "maximum spectral amplitude                          -0.009803   \n",
              "frequency at the maximum spectral amplitude         -0.036427   \n",
              "center frequency                                     1.000000   \n",
              "signal bandwidth                                     0.603751   \n",
              "zero upcrossing rate                                -0.039286   \n",
              "rate of spectral peaks                               0.025968   \n",
              "\n",
              "                                             signal bandwidth  \\\n",
              "integral of the squared waveform                    -0.109639   \n",
              "maximum spectral amplitude                          -0.125211   \n",
              "frequency at the maximum spectral amplitude          0.008501   \n",
              "center frequency                                     0.603751   \n",
              "signal bandwidth                                     1.000000   \n",
              "zero upcrossing rate                                -0.192756   \n",
              "rate of spectral peaks                              -0.089442   \n",
              "\n",
              "                                             zero upcrossing rate  \\\n",
              "integral of the squared waveform                         0.393205   \n",
              "maximum spectral amplitude                               0.404194   \n",
              "frequency at the maximum spectral amplitude              0.130934   \n",
              "center frequency                                        -0.039286   \n",
              "signal bandwidth                                        -0.192756   \n",
              "zero upcrossing rate                                     1.000000   \n",
              "rate of spectral peaks                                   0.179387   \n",
              "\n",
              "                                             rate of spectral peaks  \n",
              "integral of the squared waveform                           0.074140  \n",
              "maximum spectral amplitude                                 0.081362  \n",
              "frequency at the maximum spectral amplitude                0.100722  \n",
              "center frequency                                           0.025968  \n",
              "signal bandwidth                                          -0.089442  \n",
              "zero upcrossing rate                                       0.179387  \n",
              "rate of spectral peaks                                     1.000000  "
            ],
            "text/html": [
              "\n",
              "  <div id=\"df-775dd3ed-fe75-498c-893a-fd468a712517\">\n",
              "    <div class=\"colab-df-container\">\n",
              "      <div>\n",
              "<style scoped>\n",
              "    .dataframe tbody tr th:only-of-type {\n",
              "        vertical-align: middle;\n",
              "    }\n",
              "\n",
              "    .dataframe tbody tr th {\n",
              "        vertical-align: top;\n",
              "    }\n",
              "\n",
              "    .dataframe thead th {\n",
              "        text-align: right;\n",
              "    }\n",
              "</style>\n",
              "<table border=\"1\" class=\"dataframe\">\n",
              "  <thead>\n",
              "    <tr style=\"text-align: right;\">\n",
              "      <th></th>\n",
              "      <th>integral of the squared waveform</th>\n",
              "      <th>maximum spectral amplitude</th>\n",
              "      <th>frequency at the maximum spectral amplitude</th>\n",
              "      <th>center frequency</th>\n",
              "      <th>signal bandwidth</th>\n",
              "      <th>zero upcrossing rate</th>\n",
              "      <th>rate of spectral peaks</th>\n",
              "    </tr>\n",
              "  </thead>\n",
              "  <tbody>\n",
              "    <tr>\n",
              "      <th>integral of the squared waveform</th>\n",
              "      <td>1.000000</td>\n",
              "      <td>0.833729</td>\n",
              "      <td>0.096546</td>\n",
              "      <td>-0.014141</td>\n",
              "      <td>-0.109639</td>\n",
              "      <td>0.393205</td>\n",
              "      <td>0.074140</td>\n",
              "    </tr>\n",
              "    <tr>\n",
              "      <th>maximum spectral amplitude</th>\n",
              "      <td>0.833729</td>\n",
              "      <td>1.000000</td>\n",
              "      <td>0.244202</td>\n",
              "      <td>-0.009803</td>\n",
              "      <td>-0.125211</td>\n",
              "      <td>0.404194</td>\n",
              "      <td>0.081362</td>\n",
              "    </tr>\n",
              "    <tr>\n",
              "      <th>frequency at the maximum spectral amplitude</th>\n",
              "      <td>0.096546</td>\n",
              "      <td>0.244202</td>\n",
              "      <td>1.000000</td>\n",
              "      <td>-0.036427</td>\n",
              "      <td>0.008501</td>\n",
              "      <td>0.130934</td>\n",
              "      <td>0.100722</td>\n",
              "    </tr>\n",
              "    <tr>\n",
              "      <th>center frequency</th>\n",
              "      <td>-0.014141</td>\n",
              "      <td>-0.009803</td>\n",
              "      <td>-0.036427</td>\n",
              "      <td>1.000000</td>\n",
              "      <td>0.603751</td>\n",
              "      <td>-0.039286</td>\n",
              "      <td>0.025968</td>\n",
              "    </tr>\n",
              "    <tr>\n",
              "      <th>signal bandwidth</th>\n",
              "      <td>-0.109639</td>\n",
              "      <td>-0.125211</td>\n",
              "      <td>0.008501</td>\n",
              "      <td>0.603751</td>\n",
              "      <td>1.000000</td>\n",
              "      <td>-0.192756</td>\n",
              "      <td>-0.089442</td>\n",
              "    </tr>\n",
              "    <tr>\n",
              "      <th>zero upcrossing rate</th>\n",
              "      <td>0.393205</td>\n",
              "      <td>0.404194</td>\n",
              "      <td>0.130934</td>\n",
              "      <td>-0.039286</td>\n",
              "      <td>-0.192756</td>\n",
              "      <td>1.000000</td>\n",
              "      <td>0.179387</td>\n",
              "    </tr>\n",
              "    <tr>\n",
              "      <th>rate of spectral peaks</th>\n",
              "      <td>0.074140</td>\n",
              "      <td>0.081362</td>\n",
              "      <td>0.100722</td>\n",
              "      <td>0.025968</td>\n",
              "      <td>-0.089442</td>\n",
              "      <td>0.179387</td>\n",
              "      <td>1.000000</td>\n",
              "    </tr>\n",
              "  </tbody>\n",
              "</table>\n",
              "</div>\n",
              "      <button class=\"colab-df-convert\" onclick=\"convertToInteractive('df-775dd3ed-fe75-498c-893a-fd468a712517')\"\n",
              "              title=\"Convert this dataframe to an interactive table.\"\n",
              "              style=\"display:none;\">\n",
              "        \n",
              "  <svg xmlns=\"http://www.w3.org/2000/svg\" height=\"24px\"viewBox=\"0 0 24 24\"\n",
              "       width=\"24px\">\n",
              "    <path d=\"M0 0h24v24H0V0z\" fill=\"none\"/>\n",
              "    <path d=\"M18.56 5.44l.94 2.06.94-2.06 2.06-.94-2.06-.94-.94-2.06-.94 2.06-2.06.94zm-11 1L8.5 8.5l.94-2.06 2.06-.94-2.06-.94L8.5 2.5l-.94 2.06-2.06.94zm10 10l.94 2.06.94-2.06 2.06-.94-2.06-.94-.94-2.06-.94 2.06-2.06.94z\"/><path d=\"M17.41 7.96l-1.37-1.37c-.4-.4-.92-.59-1.43-.59-.52 0-1.04.2-1.43.59L10.3 9.45l-7.72 7.72c-.78.78-.78 2.05 0 2.83L4 21.41c.39.39.9.59 1.41.59.51 0 1.02-.2 1.41-.59l7.78-7.78 2.81-2.81c.8-.78.8-2.07 0-2.86zM5.41 20L4 18.59l7.72-7.72 1.47 1.35L5.41 20z\"/>\n",
              "  </svg>\n",
              "      </button>\n",
              "      \n",
              "  <style>\n",
              "    .colab-df-container {\n",
              "      display:flex;\n",
              "      flex-wrap:wrap;\n",
              "      gap: 12px;\n",
              "    }\n",
              "\n",
              "    .colab-df-convert {\n",
              "      background-color: #E8F0FE;\n",
              "      border: none;\n",
              "      border-radius: 50%;\n",
              "      cursor: pointer;\n",
              "      display: none;\n",
              "      fill: #1967D2;\n",
              "      height: 32px;\n",
              "      padding: 0 0 0 0;\n",
              "      width: 32px;\n",
              "    }\n",
              "\n",
              "    .colab-df-convert:hover {\n",
              "      background-color: #E2EBFA;\n",
              "      box-shadow: 0px 1px 2px rgba(60, 64, 67, 0.3), 0px 1px 3px 1px rgba(60, 64, 67, 0.15);\n",
              "      fill: #174EA6;\n",
              "    }\n",
              "\n",
              "    [theme=dark] .colab-df-convert {\n",
              "      background-color: #3B4455;\n",
              "      fill: #D2E3FC;\n",
              "    }\n",
              "\n",
              "    [theme=dark] .colab-df-convert:hover {\n",
              "      background-color: #434B5C;\n",
              "      box-shadow: 0px 1px 3px 1px rgba(0, 0, 0, 0.15);\n",
              "      filter: drop-shadow(0px 1px 2px rgba(0, 0, 0, 0.3));\n",
              "      fill: #FFFFFF;\n",
              "    }\n",
              "  </style>\n",
              "\n",
              "      <script>\n",
              "        const buttonEl =\n",
              "          document.querySelector('#df-775dd3ed-fe75-498c-893a-fd468a712517 button.colab-df-convert');\n",
              "        buttonEl.style.display =\n",
              "          google.colab.kernel.accessAllowed ? 'block' : 'none';\n",
              "\n",
              "        async function convertToInteractive(key) {\n",
              "          const element = document.querySelector('#df-775dd3ed-fe75-498c-893a-fd468a712517');\n",
              "          const dataTable =\n",
              "            await google.colab.kernel.invokeFunction('convertToInteractive',\n",
              "                                                     [key], {});\n",
              "          if (!dataTable) return;\n",
              "\n",
              "          const docLinkHtml = 'Like what you see? Visit the ' +\n",
              "            '<a target=\"_blank\" href=https://colab.research.google.com/notebooks/data_table.ipynb>data table notebook</a>'\n",
              "            + ' to learn more about interactive tables.';\n",
              "          element.innerHTML = '';\n",
              "          dataTable['output_type'] = 'display_data';\n",
              "          await google.colab.output.renderOutput(dataTable, element);\n",
              "          const docLink = document.createElement('div');\n",
              "          docLink.innerHTML = docLinkHtml;\n",
              "          element.appendChild(docLink);\n",
              "        }\n",
              "      </script>\n",
              "    </div>\n",
              "  </div>\n",
              "  "
            ]
          },
          "metadata": {},
          "execution_count": 33
        }
      ]
    },
    {
      "cell_type": "code",
      "source": [
        "from sklearn.model_selection import train_test_split\n",
        "\n",
        "# Assuming your DataFrame is named 'df'\n",
        "X = df\n",
        "\n",
        "# Splitting the dataset into training and evaluation sets\n",
        "X_train, X_eval = train_test_split(X, test_size=0.1, random_state=66)"
      ],
      "metadata": {
        "id": "SAdUjQVC18uz"
      },
      "execution_count": 34,
      "outputs": []
    },
    {
      "cell_type": "code",
      "source": [
        "scaler = StandardScaler()\n",
        "X_train_std = scaler.fit_transform(X_train)\n",
        "X_eval_std = scaler.transform(X_eval)"
      ],
      "metadata": {
        "id": "29Fe6Zamwoyl"
      },
      "execution_count": 35,
      "outputs": []
    },
    {
      "cell_type": "code",
      "source": [
        "pca = PCA(n_components=7)\n",
        "X_train_pca = pca.fit_transform(X_train_std)\n",
        "X_eval_pca = pca.transform(X_eval_std)\n",
        "\n",
        "# Checking the explained variance ratio\n",
        "prop_var = pca.explained_variance_ratio_\n",
        "eigenvalues = pca.explained_variance_\n",
        "PC_numbers = np.arange(pca.n_components_) + 1\n",
        " \n",
        "plt.plot(PC_numbers, \n",
        "         prop_var, \n",
        "         'ro-')\n",
        "plt.title('Figure 1: Scree Plot', fontsize=8)\n",
        "plt.ylabel('Proportion of Variance', fontsize=8)\n",
        "plt.show()\n",
        "pca.explained_variance_ratio_"
      ],
      "metadata": {
        "id": "XnWTtw1vxdPD",
        "colab": {
          "base_uri": "https://localhost:8080/",
          "height": 482
        },
        "outputId": "0d9e50ff-4429-4a49-9867-eb7f4dbb6dc6"
      },
      "execution_count": 36,
      "outputs": [
        {
          "output_type": "display_data",
          "data": {
            "text/plain": [
              "<Figure size 640x480 with 1 Axes>"
            ],
            "image/png": "[encoded data removed]"
          },
          "metadata": {}
        },
        {
          "output_type": "execute_result",
          "data": {
            "text/plain": [
              "array([0.33124438, 0.25409438, 0.15096787, 0.13063609, 0.09688417,\n",
              "       0.02192669, 0.01424642])"
            ]
          },
          "metadata": {},
          "execution_count": 36
        }
      ]
    },
    {
      "cell_type": "code",
      "source": [
        "from scipy.linalg import sqrtm\n",
        "\n",
        "# Compute the covariance matrix\n",
        "covariance_matrix = np.cov(X_train_pca, rowvar=False)\n",
        "\n",
        "# Calculate the correlation matrix\n",
        "correlation_matrix = np.corrcoef(X_train_pca.T)\n",
        "\n",
        "# Compute the whitening matrix\n",
        "whitening_matrix = sqrtm(np.linalg.inv(covariance_matrix))\n",
        "\n",
        "# Apply whitening to the PCA components\n",
        "X_train_whitened = np.dot(X_train_pca, whitening_matrix)\n",
        "X_eval_whitened = np.dot(X_eval_pca, whitening_matrix)\n",
        "\n",
        "cm = pd.DataFrame(correlation_matrix)\n",
        "cm\n"
      ],
      "metadata": {
        "colab": {
          "base_uri": "https://localhost:8080/",
          "height": 269
        },
        "id": "Km7f8jPNxGK7",
        "outputId": "506e8901-3e5c-49ff-87f0-b8be63c31042"
      },
      "execution_count": 37,
      "outputs": [
        {
          "output_type": "execute_result",
          "data": {
            "text/plain": [
              "              0             1             2             3             4  \\\n",
              "0  1.000000e+00  1.943783e-16  2.801952e-17 -1.901397e-16 -4.809270e-17   \n",
              "1  1.943783e-16  1.000000e+00 -5.598548e-17  3.439126e-17 -4.018455e-16   \n",
              "2  2.801952e-17 -5.598548e-17  1.000000e+00 -8.644602e-17  3.464753e-16   \n",
              "3 -1.901397e-16  3.439126e-17 -8.644602e-17  1.000000e+00  2.784769e-16   \n",
              "4 -4.809270e-17 -4.018455e-16  3.464753e-16  2.784769e-16  1.000000e+00   \n",
              "5  6.203404e-17 -1.442799e-17  9.188870e-17 -1.317078e-16 -2.602078e-17   \n",
              "6 -1.368174e-16 -1.952666e-16 -1.351083e-16  9.077634e-17  1.317613e-16   \n",
              "\n",
              "              5             6  \n",
              "0  6.203404e-17 -1.368174e-16  \n",
              "1 -1.442799e-17 -1.952666e-16  \n",
              "2  9.188870e-17 -1.351083e-16  \n",
              "3 -1.317078e-16  9.077634e-17  \n",
              "4 -2.602078e-17  1.317613e-16  \n",
              "5  1.000000e+00  4.431469e-17  \n",
              "6  4.431469e-17  1.000000e+00  "
            ],
            "text/html": [
              "\n",
              "  <div id=\"df-e65bf737-669e-4034-a3e2-0ae3e0f907a5\">\n",
              "    <div class=\"colab-df-container\">\n",
              "      <div>\n",
              "<style scoped>\n",
              "    .dataframe tbody tr th:only-of-type {\n",
              "        vertical-align: middle;\n",
              "    }\n",
              "\n",
              "    .dataframe tbody tr th {\n",
              "        vertical-align: top;\n",
              "    }\n",
              "\n",
              "    .dataframe thead th {\n",
              "        text-align: right;\n",
              "    }\n",
              "</style>\n",
              "<table border=\"1\" class=\"dataframe\">\n",
              "  <thead>\n",
              "    <tr style=\"text-align: right;\">\n",
              "      <th></th>\n",
              "      <th>0</th>\n",
              "      <th>1</th>\n",
              "      <th>2</th>\n",
              "      <th>3</th>\n",
              "      <th>4</th>\n",
              "      <th>5</th>\n",
              "      <th>6</th>\n",
              "    </tr>\n",
              "  </thead>\n",
              "  <tbody>\n",
              "    <tr>\n",
              "      <th>0</th>\n",
              "      <td>1.000000e+00</td>\n",
              "      <td>1.943783e-16</td>\n",
              "      <td>2.801952e-17</td>\n",
              "      <td>-1.901397e-16</td>\n",
              "      <td>-4.809270e-17</td>\n",
              "      <td>6.203404e-17</td>\n",
              "      <td>-1.368174e-16</td>\n",
              "    </tr>\n",
              "    <tr>\n",
              "      <th>1</th>\n",
              "      <td>1.943783e-16</td>\n",
              "      <td>1.000000e+00</td>\n",
              "      <td>-5.598548e-17</td>\n",
              "      <td>3.439126e-17</td>\n",
              "      <td>-4.018455e-16</td>\n",
              "      <td>-1.442799e-17</td>\n",
              "      <td>-1.952666e-16</td>\n",
              "    </tr>\n",
              "    <tr>\n",
              "      <th>2</th>\n",
              "      <td>2.801952e-17</td>\n",
              "      <td>-5.598548e-17</td>\n",
              "      <td>1.000000e+00</td>\n",
              "      <td>-8.644602e-17</td>\n",
              "      <td>3.464753e-16</td>\n",
              "      <td>9.188870e-17</td>\n",
              "      <td>-1.351083e-16</td>\n",
              "    </tr>\n",
              "    <tr>\n",
              "      <th>3</th>\n",
              "      <td>-1.901397e-16</td>\n",
              "      <td>3.439126e-17</td>\n",
              "      <td>-8.644602e-17</td>\n",
              "      <td>1.000000e+00</td>\n",
              "      <td>2.784769e-16</td>\n",
              "      <td>-1.317078e-16</td>\n",
              "      <td>9.077634e-17</td>\n",
              "    </tr>\n",
              "    <tr>\n",
              "      <th>4</th>\n",
              "      <td>-4.809270e-17</td>\n",
              "      <td>-4.018455e-16</td>\n",
              "      <td>3.464753e-16</td>\n",
              "      <td>2.784769e-16</td>\n",
              "      <td>1.000000e+00</td>\n",
              "      <td>-2.602078e-17</td>\n",
              "      <td>1.317613e-16</td>\n",
              "    </tr>\n",
              "    <tr>\n",
              "      <th>5</th>\n",
              "      <td>6.203404e-17</td>\n",
              "      <td>-1.442799e-17</td>\n",
              "      <td>9.188870e-17</td>\n",
              "      <td>-1.317078e-16</td>\n",
              "      <td>-2.602078e-17</td>\n",
              "      <td>1.000000e+00</td>\n",
              "      <td>4.431469e-17</td>\n",
              "    </tr>\n",
              "    <tr>\n",
              "      <th>6</th>\n",
              "      <td>-1.368174e-16</td>\n",
              "      <td>-1.952666e-16</td>\n",
              "      <td>-1.351083e-16</td>\n",
              "      <td>9.077634e-17</td>\n",
              "      <td>1.317613e-16</td>\n",
              "      <td>4.431469e-17</td>\n",
              "      <td>1.000000e+00</td>\n",
              "    </tr>\n",
              "  </tbody>\n",
              "</table>\n",
              "</div>\n",
              "      <button class=\"colab-df-convert\" onclick=\"convertToInteractive('df-e65bf737-669e-4034-a3e2-0ae3e0f907a5')\"\n",
              "              title=\"Convert this dataframe to an interactive table.\"\n",
              "              style=\"display:none;\">\n",
              "        \n",
              "  <svg xmlns=\"http://www.w3.org/2000/svg\" height=\"24px\"viewBox=\"0 0 24 24\"\n",
              "       width=\"24px\">\n",
              "    <path d=\"M0 0h24v24H0V0z\" fill=\"none\"/>\n",
              "    <path d=\"M18.56 5.44l.94 2.06.94-2.06 2.06-.94-2.06-.94-.94-2.06-.94 2.06-2.06.94zm-11 1L8.5 8.5l.94-2.06 2.06-.94-2.06-.94L8.5 2.5l-.94 2.06-2.06.94zm10 10l.94 2.06.94-2.06 2.06-.94-2.06-.94-.94-2.06-.94 2.06-2.06.94z\"/><path d=\"M17.41 7.96l-1.37-1.37c-.4-.4-.92-.59-1.43-.59-.52 0-1.04.2-1.43.59L10.3 9.45l-7.72 7.72c-.78.78-.78 2.05 0 2.83L4 21.41c.39.39.9.59 1.41.59.51 0 1.02-.2 1.41-.59l7.78-7.78 2.81-2.81c.8-.78.8-2.07 0-2.86zM5.41 20L4 18.59l7.72-7.72 1.47 1.35L5.41 20z\"/>\n",
              "  </svg>\n",
              "      </button>\n",
              "      \n",
              "  <style>\n",
              "    .colab-df-container {\n",
              "      display:flex;\n",
              "      flex-wrap:wrap;\n",
              "      gap: 12px;\n",
              "    }\n",
              "\n",
              "    .colab-df-convert {\n",
              "      background-color: #E8F0FE;\n",
              "      border: none;\n",
              "      border-radius: 50%;\n",
              "      cursor: pointer;\n",
              "      display: none;\n",
              "      fill: #1967D2;\n",
              "      height: 32px;\n",
              "      padding: 0 0 0 0;\n",
              "      width: 32px;\n",
              "    }\n",
              "\n",
              "    .colab-df-convert:hover {\n",
              "      background-color: #E2EBFA;\n",
              "      box-shadow: 0px 1px 2px rgba(60, 64, 67, 0.3), 0px 1px 3px 1px rgba(60, 64, 67, 0.15);\n",
              "      fill: #174EA6;\n",
              "    }\n",
              "\n",
              "    [theme=dark] .colab-df-convert {\n",
              "      background-color: #3B4455;\n",
              "      fill: #D2E3FC;\n",
              "    }\n",
              "\n",
              "    [theme=dark] .colab-df-convert:hover {\n",
              "      background-color: #434B5C;\n",
              "      box-shadow: 0px 1px 3px 1px rgba(0, 0, 0, 0.15);\n",
              "      filter: drop-shadow(0px 1px 2px rgba(0, 0, 0, 0.3));\n",
              "      fill: #FFFFFF;\n",
              "    }\n",
              "  </style>\n",
              "\n",
              "      <script>\n",
              "        const buttonEl =\n",
              "          document.querySelector('#df-e65bf737-669e-4034-a3e2-0ae3e0f907a5 button.colab-df-convert');\n",
              "        buttonEl.style.display =\n",
              "          google.colab.kernel.accessAllowed ? 'block' : 'none';\n",
              "\n",
              "        async function convertToInteractive(key) {\n",
              "          const element = document.querySelector('#df-e65bf737-669e-4034-a3e2-0ae3e0f907a5');\n",
              "          const dataTable =\n",
              "            await google.colab.kernel.invokeFunction('convertToInteractive',\n",
              "                                                     [key], {});\n",
              "          if (!dataTable) return;\n",
              "\n",
              "          const docLinkHtml = 'Like what you see? Visit the ' +\n",
              "            '<a target=\"_blank\" href=https://colab.research.google.com/notebooks/data_table.ipynb>data table notebook</a>'\n",
              "            + ' to learn more about interactive tables.';\n",
              "          element.innerHTML = '';\n",
              "          dataTable['output_type'] = 'display_data';\n",
              "          await google.colab.output.renderOutput(dataTable, element);\n",
              "          const docLink = document.createElement('div');\n",
              "          docLink.innerHTML = docLinkHtml;\n",
              "          element.appendChild(docLink);\n",
              "        }\n",
              "      </script>\n",
              "    </div>\n",
              "  </div>\n",
              "  "
            ]
          },
          "metadata": {},
          "execution_count": 37
        }
      ]
    },
    {
      "cell_type": "markdown",
      "source": [
        "KMean"
      ],
      "metadata": {
        "id": "7DjhCNjEvCjb"
      }
    },
    {
      "cell_type": "code",
      "source": [
        "# Some variables\n",
        "SAMPLE_SIZE = 0.1\n",
        "RANDOM_STATE = 42\n",
        "NUM_CLUSTERS = 10     # k\n",
        "NUM_ITER = 3          # n\n",
        "NUM_ATTEMPTS = 5      # m\n",
        "data_sample = data.sample(frac=SAMPLE_SIZE, random_state=RANDOM_STATE, replace=False)\n",
        "data_sample.shape"
      ],
      "metadata": {
        "id": "Ei183lERRH7S"
      },
      "execution_count": null,
      "outputs": []
    },
    {
      "cell_type": "code",
      "source": [
        "final_cents = []\n",
        "final_inert = []\n",
        "    \n",
        "for sample in range(NUM_ATTEMPTS):\n",
        "    print('\\nCentroid attempt: ', sample)\n",
        "    km = KMeans(n_clusters=NUM_CLUSTERS, init='random', max_iter=1, n_init=1)#, verbose=1) \n",
        "    km.fit(data_sample)\n",
        "    inertia_start = km.inertia_\n",
        "    intertia_end = 0\n",
        "    cents = km.cluster_centers_\n",
        "        \n",
        "    for iter in range(NUM_ITER):\n",
        "        km = KMeans(n_clusters=NUM_CLUSTERS, init=cents, max_iter=1, n_init=1)\n",
        "        km.fit(data_sample)\n",
        "        print('Iteration: ', iter)\n",
        "        print('Inertia:', km.inertia_)\n",
        "        print('Centroids:', km.cluster_centers_)\n",
        "        inertia_end = km.inertia_\n",
        "        cents = km.cluster_centers_\n",
        "    final_cents.append(cents)\n",
        "    final_inert.append(inertia_end)\n",
        "    print('Difference between initial and final inertia: ', inertia_start-inertia_end)"
      ],
      "metadata": {
        "id": "3H2QNBbbM7Uf"
      },
      "execution_count": null,
      "outputs": []
    },
    {
      "cell_type": "code",
      "source": [
        "# Get best centroids to use for full clustering\n",
        "best_cents = final_cents[final_inert.index(min(final_inert))]\n",
        "best_cents"
      ],
      "metadata": {
        "id": "NHdrVIYoQtLv"
      },
      "execution_count": null,
      "outputs": []
    },
    {
      "cell_type": "code",
      "source": [
        "import numpy as np\n",
        "from sklearn.cluster import KMeans\n",
        "from sklearn.metrics import pairwise_distances_argmin_min\n",
        "from sklearn.metrics import pairwise_distances\n",
        "\n",
        "# Elbow Method for optimal number of clusters\n",
        "\n",
        "\n",
        "Sum_of_squared_distances = []\n",
        "K = range(2,21)\n",
        "for num_clusters in K :\n",
        " kmeans = KMeans(n_clusters=num_clusters)\n",
        " kmeans.fit(X_train_whitened)\n",
        " Sum_of_squared_distances.append(kmeans.inertia_)\n",
        "plt.plot(K,Sum_of_squared_distances,'bx-')\n",
        "plt.xlabel('Values of K') \n",
        "plt.ylabel('Sum of squared distances/Inertia') \n",
        "plt.title('Elbow Method For Optimal k')\n",
        "plt.show()\n"
      ],
      "metadata": {
        "colab": {
          "base_uri": "https://localhost:8080/",
          "height": 472
        },
        "id": "3sYjorKtxGE6",
        "outputId": "cab77aa5-eb0a-42a7-d7ef-7e50bd6152dd"
      },
      "execution_count": 38,
      "outputs": [
        {
          "output_type": "display_data",
          "data": {
            "text/plain": [
              "<Figure size 640x480 with 1 Axes>"
            ],
            "image/png": "[encoded data removed]"
          },
          "metadata": {}
        }
      ]
    },
    {
      "cell_type": "code",
      "source": [
        "from sklearn.metrics import silhouette_score\n",
        "silhouette_avg = []\n",
        "for num_clusters in K:\n",
        "  # initialise kmeans\n",
        "  kmeans = KMeans(n_clusters=num_clusters)\n",
        "  kmeans.fit(X_train_whitened)\n",
        "  cluster_labels = kmeans.labels_\n",
        "  # silhouette score\n",
        "  silhouette_avg.append(silhouette_score(X_train_whitened, cluster_labels))\n",
        "plt.plot(K,silhouette_avg,'bx-')\n",
        "plt.xlabel('Values of K') \n",
        "plt.ylabel('Silhouette score') \n",
        "plt.title('Silhouette analysis For Optimal k')\n",
        "plt.show()"
      ],
      "metadata": {
        "colab": {
          "base_uri": "https://localhost:8080/",
          "height": 472
        },
        "id": "nG0YwDjBG6dC",
        "outputId": "943686ee-a1b0-406f-b74b-952c9e45116f"
      },
      "execution_count": 39,
      "outputs": [
        {
          "output_type": "display_data",
          "data": {
            "text/plain": [
              "<Figure size 640x480 with 1 Axes>"
            ],
            "image/png": "[encoded data removed]"
          },
          "metadata": {}
        }
      ]
    },
    {
      "cell_type": "code",
      "source": [
        "!pip install git+https://github.com/milesgranger/gap_statistic.git"
      ],
      "metadata": {
        "colab": {
          "base_uri": "https://localhost:8080/"
        },
        "id": "4zulkxo1LZYE",
        "outputId": "08e8faeb-a5ee-4373-e62a-07696902890a"
      },
      "execution_count": 40,
      "outputs": [
        {
          "output_type": "stream",
          "name": "stdout",
          "text": [
            "Looking in indexes: https://pypi.org/simple, https://us-python.pkg.dev/colab-wheels/public/simple/\n",
            "Collecting git+https://github.com/milesgranger/gap_statistic.git\n",
            "  Cloning https://github.com/milesgranger/gap_statistic.git to /tmp/pip-req-build-bw8l_xxh\n",
            "  Running command git clone --filter=blob:none --quiet https://github.com/milesgranger/gap_statistic.git /tmp/pip-req-build-bw8l_xxh\n",
            "  Resolved https://github.com/milesgranger/gap_statistic.git to commit d5f8a8ec719fa8c33caa68a957e90feedd80475f\n",
            "  Installing build dependencies ... \u001b[?25l\u001b[?25hdone\n",
            "  Getting requirements to build wheel ... \u001b[?25l\u001b[?25hdone\n",
            "  Installing backend dependencies ... \u001b[?25l\u001b[?25hdone\n",
            "  Preparing metadata (pyproject.toml) ... \u001b[?25l\u001b[?25hdone\n",
            "Requirement already satisfied: numpy in /usr/local/lib/python3.10/dist-packages (from gap-stat==2.0.2) (1.22.4)\n",
            "Requirement already satisfied: pandas in /usr/local/lib/python3.10/dist-packages (from gap-stat==2.0.2) (1.5.3)\n",
            "Requirement already satisfied: scipy in /usr/local/lib/python3.10/dist-packages (from gap-stat==2.0.2) (1.10.1)\n",
            "Requirement already satisfied: python-dateutil>=2.8.1 in /usr/local/lib/python3.10/dist-packages (from pandas->gap-stat==2.0.2) (2.8.2)\n",
            "Requirement already satisfied: pytz>=2020.1 in /usr/local/lib/python3.10/dist-packages (from pandas->gap-stat==2.0.2) (2022.7.1)\n",
            "Requirement already satisfied: six>=1.5 in /usr/local/lib/python3.10/dist-packages (from python-dateutil>=2.8.1->pandas->gap-stat==2.0.2) (1.16.0)\n",
            "Building wheels for collected packages: gap-stat\n",
            "  Building wheel for gap-stat (pyproject.toml) ... \u001b[?25l\u001b[?25hdone\n",
            "  Created wheel for gap-stat: filename=gap_stat-2.0.2-py3-none-any.whl size=6079 sha256=30ad12d58bcfd472a335025a0387df4359465174c076116aa6cee43c916045c2\n",
            "  Stored in directory: /tmp/pip-ephem-wheel-cache-pvv313ed/wheels/23/de/a0/364cf1dc6cc8534993f78aeaf84fabf8496481fd7ae5ac31ff\n",
            "Successfully built gap-stat\n",
            "Installing collected packages: gap-stat\n",
            "Successfully installed gap-stat-2.0.2\n"
          ]
        }
      ]
    },
    {
      "cell_type": "code",
      "source": [
        "pip install --upgrade gap-stat"
      ],
      "metadata": {
        "colab": {
          "base_uri": "https://localhost:8080/"
        },
        "id": "GrMSKJVGNhwn",
        "outputId": "88f3cf13-4b4b-4be2-9d51-cc26218f80fb"
      },
      "execution_count": 41,
      "outputs": [
        {
          "output_type": "stream",
          "name": "stdout",
          "text": [
            "Looking in indexes: https://pypi.org/simple, https://us-python.pkg.dev/colab-wheels/public/simple/\n",
            "Requirement already satisfied: gap-stat in /usr/local/lib/python3.10/dist-packages (2.0.2)\n",
            "Requirement already satisfied: numpy in /usr/local/lib/python3.10/dist-packages (from gap-stat) (1.22.4)\n",
            "Requirement already satisfied: pandas in /usr/local/lib/python3.10/dist-packages (from gap-stat) (1.5.3)\n",
            "Requirement already satisfied: scipy in /usr/local/lib/python3.10/dist-packages (from gap-stat) (1.10.1)\n",
            "Requirement already satisfied: python-dateutil>=2.8.1 in /usr/local/lib/python3.10/dist-packages (from pandas->gap-stat) (2.8.2)\n",
            "Requirement already satisfied: pytz>=2020.1 in /usr/local/lib/python3.10/dist-packages (from pandas->gap-stat) (2022.7.1)\n",
            "Requirement already satisfied: six>=1.5 in /usr/local/lib/python3.10/dist-packages (from python-dateutil>=2.8.1->pandas->gap-stat) (1.16.0)\n"
          ]
        }
      ]
    },
    {
      "cell_type": "code",
      "source": [
        "from gap_statistic import OptimalK\n",
        "from sklearn.cluster import KMeans\n",
        "def KMeans_clustering_func(X, k):\n",
        "    \"\"\" \n",
        "    K Means Clustering function, which uses the K Means model from sklearn.\n",
        "    \n",
        "    These user-defined functions *must* take the X (input features) and a k \n",
        "    when initializing OptimalK\n",
        "    \"\"\"\n",
        "    \n",
        "    # Include any clustering Algorithm that can return cluster centers\n",
        "    \n",
        "    m = KMeans(random_state=11, n_clusters=k)\n",
        "    m.fit(X)\n",
        "    \n",
        "    # Return the location of each cluster center,\n",
        "    # and the labels for each point.\n",
        "    return m.cluster_centers_, m.predict(X)\n",
        "#--------------------create a wrapper around OptimalK to extract cluster centers and cluster labels\n",
        "optimalK = OptimalK(clusterer=KMeans_clustering_func)\n",
        "#--------------------Run optimal K on the input data (subset_scaled_interim) and number of clusters\n",
        "n_clusters = optimalK(X_train_whitened, cluster_array=np.arange(2, 21))\n",
        "print('Optimal clusters: ', n_clusters)\n",
        "#--------------------Gap Statistics data frame\n",
        "optimalK.gap_df[['n_clusters', 'gap_value']]\n"
      ],
      "metadata": {
        "colab": {
          "base_uri": "https://localhost:8080/",
          "height": 663
        },
        "id": "Yvenv3adEdXl",
        "outputId": "6cb98bfe-7740-416a-fdc5-8aa56189045f"
      },
      "execution_count": 51,
      "outputs": [
        {
          "output_type": "stream",
          "name": "stdout",
          "text": [
            "Optimal clusters:  20\n"
          ]
        },
        {
          "output_type": "execute_result",
          "data": {
            "text/plain": [
              "    n_clusters  gap_value\n",
              "0          2.0   2.962542\n",
              "1          3.0   2.900143\n",
              "2          4.0   2.935292\n",
              "3          5.0   3.036373\n",
              "4          6.0   3.133980\n",
              "5          7.0   3.232189\n",
              "6          8.0   3.310485\n",
              "7          9.0   3.366886\n",
              "8         10.0   3.424726\n",
              "9         11.0   3.454131\n",
              "10        12.0   3.491233\n",
              "11        13.0   3.551709\n",
              "12        14.0   3.587960\n",
              "13        15.0   3.638068\n",
              "14        16.0   3.626724\n",
              "15        17.0   3.701073\n",
              "16        18.0   3.730061\n",
              "17        19.0   3.733131\n",
              "18        20.0   3.779905"
            ],
            "text/html": [
              "\n",
              "  <div id=\"df-b25d0a25-91c6-48b8-97cc-c0b15c679fcc\">\n",
              "    <div class=\"colab-df-container\">\n",
              "      <div>\n",
              "<style scoped>\n",
              "    .dataframe tbody tr th:only-of-type {\n",
              "        vertical-align: middle;\n",
              "    }\n",
              "\n",
              "    .dataframe tbody tr th {\n",
              "        vertical-align: top;\n",
              "    }\n",
              "\n",
              "    .dataframe thead th {\n",
              "        text-align: right;\n",
              "    }\n",
              "</style>\n",
              "<table border=\"1\" class=\"dataframe\">\n",
              "  <thead>\n",
              "    <tr style=\"text-align: right;\">\n",
              "      <th></th>\n",
              "      <th>n_clusters</th>\n",
              "      <th>gap_value</th>\n",
              "    </tr>\n",
              "  </thead>\n",
              "  <tbody>\n",
              "    <tr>\n",
              "      <th>0</th>\n",
              "      <td>2.0</td>\n",
              "      <td>2.962542</td>\n",
              "    </tr>\n",
              "    <tr>\n",
              "      <th>1</th>\n",
              "      <td>3.0</td>\n",
              "      <td>2.900143</td>\n",
              "    </tr>\n",
              "    <tr>\n",
              "      <th>2</th>\n",
              "      <td>4.0</td>\n",
              "      <td>2.935292</td>\n",
              "    </tr>\n",
              "    <tr>\n",
              "      <th>3</th>\n",
              "      <td>5.0</td>\n",
              "      <td>3.036373</td>\n",
              "    </tr>\n",
              "    <tr>\n",
              "      <th>4</th>\n",
              "      <td>6.0</td>\n",
              "      <td>3.133980</td>\n",
              "    </tr>\n",
              "    <tr>\n",
              "      <th>5</th>\n",
              "      <td>7.0</td>\n",
              "      <td>3.232189</td>\n",
              "    </tr>\n",
              "    <tr>\n",
              "      <th>6</th>\n",
              "      <td>8.0</td>\n",
              "      <td>3.310485</td>\n",
              "    </tr>\n",
              "    <tr>\n",
              "      <th>7</th>\n",
              "      <td>9.0</td>\n",
              "      <td>3.366886</td>\n",
              "    </tr>\n",
              "    <tr>\n",
              "      <th>8</th>\n",
              "      <td>10.0</td>\n",
              "      <td>3.424726</td>\n",
              "    </tr>\n",
              "    <tr>\n",
              "      <th>9</th>\n",
              "      <td>11.0</td>\n",
              "      <td>3.454131</td>\n",
              "    </tr>\n",
              "    <tr>\n",
              "      <th>10</th>\n",
              "      <td>12.0</td>\n",
              "      <td>3.491233</td>\n",
              "    </tr>\n",
              "    <tr>\n",
              "      <th>11</th>\n",
              "      <td>13.0</td>\n",
              "      <td>3.551709</td>\n",
              "    </tr>\n",
              "    <tr>\n",
              "      <th>12</th>\n",
              "      <td>14.0</td>\n",
              "      <td>3.587960</td>\n",
              "    </tr>\n",
              "    <tr>\n",
              "      <th>13</th>\n",
              "      <td>15.0</td>\n",
              "      <td>3.638068</td>\n",
              "    </tr>\n",
              "    <tr>\n",
              "      <th>14</th>\n",
              "      <td>16.0</td>\n",
              "      <td>3.626724</td>\n",
              "    </tr>\n",
              "    <tr>\n",
              "      <th>15</th>\n",
              "      <td>17.0</td>\n",
              "      <td>3.701073</td>\n",
              "    </tr>\n",
              "    <tr>\n",
              "      <th>16</th>\n",
              "      <td>18.0</td>\n",
              "      <td>3.730061</td>\n",
              "    </tr>\n",
              "    <tr>\n",
              "      <th>17</th>\n",
              "      <td>19.0</td>\n",
              "      <td>3.733131</td>\n",
              "    </tr>\n",
              "    <tr>\n",
              "      <th>18</th>\n",
              "      <td>20.0</td>\n",
              "      <td>3.779905</td>\n",
              "    </tr>\n",
              "  </tbody>\n",
              "</table>\n",
              "</div>\n",
              "      <button class=\"colab-df-convert\" onclick=\"convertToInteractive('df-b25d0a25-91c6-48b8-97cc-c0b15c679fcc')\"\n",
              "              title=\"Convert this dataframe to an interactive table.\"\n",
              "              style=\"display:none;\">\n",
              "        \n",
              "  <svg xmlns=\"http://www.w3.org/2000/svg\" height=\"24px\"viewBox=\"0 0 24 24\"\n",
              "       width=\"24px\">\n",
              "    <path d=\"M0 0h24v24H0V0z\" fill=\"none\"/>\n",
              "    <path d=\"M18.56 5.44l.94 2.06.94-2.06 2.06-.94-2.06-.94-.94-2.06-.94 2.06-2.06.94zm-11 1L8.5 8.5l.94-2.06 2.06-.94-2.06-.94L8.5 2.5l-.94 2.06-2.06.94zm10 10l.94 2.06.94-2.06 2.06-.94-2.06-.94-.94-2.06-.94 2.06-2.06.94z\"/><path d=\"M17.41 7.96l-1.37-1.37c-.4-.4-.92-.59-1.43-.59-.52 0-1.04.2-1.43.59L10.3 9.45l-7.72 7.72c-.78.78-.78 2.05 0 2.83L4 21.41c.39.39.9.59 1.41.59.51 0 1.02-.2 1.41-.59l7.78-7.78 2.81-2.81c.8-.78.8-2.07 0-2.86zM5.41 20L4 18.59l7.72-7.72 1.47 1.35L5.41 20z\"/>\n",
              "  </svg>\n",
              "      </button>\n",
              "      \n",
              "  <style>\n",
              "    .colab-df-container {\n",
              "      display:flex;\n",
              "      flex-wrap:wrap;\n",
              "      gap: 12px;\n",
              "    }\n",
              "\n",
              "    .colab-df-convert {\n",
              "      background-color: #E8F0FE;\n",
              "      border: none;\n",
              "      border-radius: 50%;\n",
              "      cursor: pointer;\n",
              "      display: none;\n",
              "      fill: #1967D2;\n",
              "      height: 32px;\n",
              "      padding: 0 0 0 0;\n",
              "      width: 32px;\n",
              "    }\n",
              "\n",
              "    .colab-df-convert:hover {\n",
              "      background-color: #E2EBFA;\n",
              "      box-shadow: 0px 1px 2px rgba(60, 64, 67, 0.3), 0px 1px 3px 1px rgba(60, 64, 67, 0.15);\n",
              "      fill: #174EA6;\n",
              "    }\n",
              "\n",
              "    [theme=dark] .colab-df-convert {\n",
              "      background-color: #3B4455;\n",
              "      fill: #D2E3FC;\n",
              "    }\n",
              "\n",
              "    [theme=dark] .colab-df-convert:hover {\n",
              "      background-color: #434B5C;\n",
              "      box-shadow: 0px 1px 3px 1px rgba(0, 0, 0, 0.15);\n",
              "      filter: drop-shadow(0px 1px 2px rgba(0, 0, 0, 0.3));\n",
              "      fill: #FFFFFF;\n",
              "    }\n",
              "  </style>\n",
              "\n",
              "      <script>\n",
              "        const buttonEl =\n",
              "          document.querySelector('#df-b25d0a25-91c6-48b8-97cc-c0b15c679fcc button.colab-df-convert');\n",
              "        buttonEl.style.display =\n",
              "          google.colab.kernel.accessAllowed ? 'block' : 'none';\n",
              "\n",
              "        async function convertToInteractive(key) {\n",
              "          const element = document.querySelector('#df-b25d0a25-91c6-48b8-97cc-c0b15c679fcc');\n",
              "          const dataTable =\n",
              "            await google.colab.kernel.invokeFunction('convertToInteractive',\n",
              "                                                     [key], {});\n",
              "          if (!dataTable) return;\n",
              "\n",
              "          const docLinkHtml = 'Like what you see? Visit the ' +\n",
              "            '<a target=\"_blank\" href=https://colab.research.google.com/notebooks/data_table.ipynb>data table notebook</a>'\n",
              "            + ' to learn more about interactive tables.';\n",
              "          element.innerHTML = '';\n",
              "          dataTable['output_type'] = 'display_data';\n",
              "          await google.colab.output.renderOutput(dataTable, element);\n",
              "          const docLink = document.createElement('div');\n",
              "          docLink.innerHTML = docLinkHtml;\n",
              "          element.appendChild(docLink);\n",
              "        }\n",
              "      </script>\n",
              "    </div>\n",
              "  </div>\n",
              "  "
            ]
          },
          "metadata": {},
          "execution_count": 51
        }
      ]
    },
    {
      "cell_type": "code",
      "source": [
        "\n",
        "n_clusters=19\n",
        "plt.plot(optimalK.gap_df.n_clusters, optimalK.gap_df.gap_value, linewidth=2)\n",
        "plt.scatter(optimalK.gap_df[optimalK.gap_df.n_clusters == n_clusters].n_clusters,\n",
        "            optimalK.gap_df[optimalK.gap_df.n_clusters == n_clusters].gap_value, s=250, c='r')\n",
        "plt.grid(True)\n",
        "plt.xlabel('Cluster Count')\n",
        "plt.ylabel('Gap Value')\n",
        "plt.title('Gap Values by Cluster Count')\n",
        "plt.axvline(19, linestyle=\"--\")\n",
        "plt.show()"
      ],
      "metadata": {
        "colab": {
          "base_uri": "https://localhost:8080/",
          "height": 472
        },
        "id": "F-z4zfw6LUI0",
        "outputId": "bc43ea1d-66f2-4277-a9cb-cb070108d951"
      },
      "execution_count": 53,
      "outputs": [
        {
          "output_type": "display_data",
          "data": {
            "text/plain": [
              "<Figure size 640x480 with 1 Axes>"
            ],
            "image/png": "[encoded data removed]"
          },
          "metadata": {}
        }
      ]
    },
    {
      "cell_type": "code",
      "source": [
        "# Calculate the differences between consecutive gap values\n",
        "gap_differences = np.diff(optimalK.gap_df['gap_value'])\n",
        "\n",
        "# Calculate the rate of change\n",
        "rate_of_change = np.divide(gap_differences, optimalK.gap_df['gap_value'][:-1])\n",
        "\n",
        "# Plot the rate of change\n",
        "plt.plot(range(2, 20), rate_of_change, color='black', linestyle='dashed', label='Rate of Change')\n",
        "plt.xticks(range(2, 20))\n",
        "# Set the plot title and labels\n",
        "plt.title('Rate of Change of Gap Values')\n",
        "plt.xlabel('Number of Clusters')\n",
        "plt.ylabel('Rate of Change')\n",
        "\n",
        "# Display the plot\n",
        "plt.show()\n"
      ],
      "metadata": {
        "colab": {
          "base_uri": "https://localhost:8080/",
          "height": 472
        },
        "id": "e9YuhVIHXZwj",
        "outputId": "bcb6db72-c999-47e7-cbf2-b5becb9d2659"
      },
      "execution_count": 44,
      "outputs": [
        {
          "output_type": "display_data",
          "data": {
            "text/plain": [
              "<Figure size 640x480 with 1 Axes>"
            ],
            "image/png": "[encoded data removed]"
          },
          "metadata": {}
        }
      ]
    },
    {
      "cell_type": "markdown",
      "source": [
        "Second Method"
      ],
      "metadata": {
        "id": "wnKYI4rpwZmY"
      }
    },
    {
      "cell_type": "code",
      "source": [
        "import scipy\n",
        "import scipy.cluster.vq\n",
        "import scipy.spatial.distance\n",
        "dst = scipy.spatial.distance.euclidean\n",
        "\n",
        "\n",
        "def optimalK(data, nrefs=50, maxClusters=20):\n",
        "    \"\"\"\n",
        "    Calculates KMeans optimal K using Gap Statistic from Tibshirani, Walther, Hastie\n",
        "    Params:\n",
        "        data: ndarry of shape (n_samples, n_features)\n",
        "        nrefs: number of sample reference datasets to create\n",
        "        maxClusters: Maximum number of clusters to test for\n",
        "    Returns: (gaps, optimalK)\n",
        "    \"\"\"\n",
        "    gaps = np.zeros((len(range(1, maxClusters)),))\n",
        "    resultsdf = pd.DataFrame({'clusterCount':[], 'gap':[]})\n",
        "    for gap_index, k in enumerate(range(1, maxClusters)):\n",
        "        # Holder for reference dispersion results\n",
        "        refDisps = np.zeros(nrefs)\n",
        "        # For n references, generate random sample and perform kmeans getting resulting dispersion of each loop\n",
        "        for i in range(nrefs):\n",
        "            \n",
        "            # Create new random reference set\n",
        "            randomReference = np.random.random_sample(size=data.shape)\n",
        "            \n",
        "            # Fit to it\n",
        "            km = KMeans(k)\n",
        "            km.fit(randomReference)\n",
        "            \n",
        "            refDisp = km.inertia_\n",
        "            refDisps[i] = refDisp\n",
        "        # Fit cluster to original data and create dispersion\n",
        "        km = KMeans(k)\n",
        "        km.fit(data)\n",
        "        \n",
        "        origDisp = km.inertia_\n",
        "        # Calculate gap statistic\n",
        "        gap = np.log(np.mean(refDisps)) - np.log(origDisp)\n",
        "        # Assign this loop's gap statistic to gaps\n",
        "        gaps[gap_index] = gap\n",
        "        \n",
        "        resultsdf = resultsdf.append({'clusterCount':k, 'gap':gap}, ignore_index=True)\n",
        "    return (gaps.argmax() + 1, resultsdf)  # Plus 1 because index of 0 means 1 cluster is optimal, index 2 = 3 clusters are optimal"
      ],
      "metadata": {
        "id": "OyYIcAwPQfRX"
      },
      "execution_count": 57,
      "outputs": []
    },
    {
      "cell_type": "code",
      "source": [],
      "metadata": {
        "colab": {
          "base_uri": "https://localhost:8080/"
        },
        "id": "r8r6GLWfCBpT",
        "outputId": "bb80f82a-c97c-4afd-ef03-1c53e6fa3256"
      },
      "execution_count": 56,
      "outputs": [
        {
          "output_type": "execute_result",
          "data": {
            "text/plain": [
              "range(0, 10)"
            ]
          },
          "metadata": {},
          "execution_count": 56
        }
      ]
    },
    {
      "cell_type": "code",
      "source": [
        "# Automatically output the number of clusters\n",
        "k, gapdf = optimalK(X_train_whitened, nrefs=720, maxClusters=20)\n",
        "print('Optimal k is: ', k)\n",
        "# Visualization\n",
        "plt.plot(gapdf.clusterCount, gapdf.gap, linewidth=3)\n",
        "plt.scatter(gapdf[gapdf.clusterCount == k].clusterCount, gapdf[gapdf.clusterCount == k].gap, s=250, c='r')\n",
        "plt.grid(True)\n",
        "plt.xlabel('Cluster Count')\n",
        "plt.ylabel('Gap Value')\n",
        "plt.title('Gap Values by Cluster Count')\n",
        "plt.show()"
      ],
      "metadata": {
        "colab": {
          "base_uri": "https://localhost:8080/",
          "height": 490
        },
        "id": "YO2RuwIPSyrW",
        "outputId": "02d43921-5a6f-435b-a1fc-768418ad4c3b"
      },
      "execution_count": 46,
      "outputs": [
        {
          "output_type": "stream",
          "name": "stdout",
          "text": [
            "Optimal k is:  19\n"
          ]
        },
        {
          "output_type": "display_data",
          "data": {
            "text/plain": [
              "<Figure size 640x480 with 1 Axes>"
            ],
            "image/png": "[encoded data removed]"
          },
          "metadata": {}
        }
      ]
    },
    {
      "cell_type": "code",
      "source": [
        "gapdf"
      ],
      "metadata": {
        "colab": {
          "base_uri": "https://localhost:8080/",
          "height": 645
        },
        "id": "3uniWGP5bb-j",
        "outputId": "9b512ee4-2a17-4c7b-fb7a-323b8d3e596a"
      },
      "execution_count": 58,
      "outputs": [
        {
          "output_type": "execute_result",
          "data": {
            "text/plain": [
              "    clusterCount       gap\n",
              "0            1.0 -2.484628\n",
              "1            2.0 -2.461759\n",
              "2            3.0 -2.409818\n",
              "3            4.0 -2.334371\n",
              "4            5.0 -2.239624\n",
              "5            6.0 -2.182918\n",
              "6            7.0 -2.093725\n",
              "7            8.0 -1.981723\n",
              "8            9.0 -1.949781\n",
              "9           10.0 -1.872955\n",
              "10          11.0 -1.826214\n",
              "11          12.0 -1.804256\n",
              "12          13.0 -1.744560\n",
              "13          14.0 -1.694622\n",
              "14          15.0 -1.648567\n",
              "15          16.0 -1.633919\n",
              "16          17.0 -1.607702\n",
              "17          18.0 -1.604901\n",
              "18          19.0 -1.554618"
            ],
            "text/html": [
              "\n",
              "  <div id=\"df-e9b51471-e0a7-483d-adfd-e49dcb099044\">\n",
              "    <div class=\"colab-df-container\">\n",
              "      <div>\n",
              "<style scoped>\n",
              "    .dataframe tbody tr th:only-of-type {\n",
              "        vertical-align: middle;\n",
              "    }\n",
              "\n",
              "    .dataframe tbody tr th {\n",
              "        vertical-align: top;\n",
              "    }\n",
              "\n",
              "    .dataframe thead th {\n",
              "        text-align: right;\n",
              "    }\n",
              "</style>\n",
              "<table border=\"1\" class=\"dataframe\">\n",
              "  <thead>\n",
              "    <tr style=\"text-align: right;\">\n",
              "      <th></th>\n",
              "      <th>clusterCount</th>\n",
              "      <th>gap</th>\n",
              "    </tr>\n",
              "  </thead>\n",
              "  <tbody>\n",
              "    <tr>\n",
              "      <th>0</th>\n",
              "      <td>1.0</td>\n",
              "      <td>-2.484628</td>\n",
              "    </tr>\n",
              "    <tr>\n",
              "      <th>1</th>\n",
              "      <td>2.0</td>\n",
              "      <td>-2.461759</td>\n",
              "    </tr>\n",
              "    <tr>\n",
              "      <th>2</th>\n",
              "      <td>3.0</td>\n",
              "      <td>-2.409818</td>\n",
              "    </tr>\n",
              "    <tr>\n",
              "      <th>3</th>\n",
              "      <td>4.0</td>\n",
              "      <td>-2.334371</td>\n",
              "    </tr>\n",
              "    <tr>\n",
              "      <th>4</th>\n",
              "      <td>5.0</td>\n",
              "      <td>-2.239624</td>\n",
              "    </tr>\n",
              "    <tr>\n",
              "      <th>5</th>\n",
              "      <td>6.0</td>\n",
              "      <td>-2.182918</td>\n",
              "    </tr>\n",
              "    <tr>\n",
              "      <th>6</th>\n",
              "      <td>7.0</td>\n",
              "      <td>-2.093725</td>\n",
              "    </tr>\n",
              "    <tr>\n",
              "      <th>7</th>\n",
              "      <td>8.0</td>\n",
              "      <td>-1.981723</td>\n",
              "    </tr>\n",
              "    <tr>\n",
              "      <th>8</th>\n",
              "      <td>9.0</td>\n",
              "      <td>-1.949781</td>\n",
              "    </tr>\n",
              "    <tr>\n",
              "      <th>9</th>\n",
              "      <td>10.0</td>\n",
              "      <td>-1.872955</td>\n",
              "    </tr>\n",
              "    <tr>\n",
              "      <th>10</th>\n",
              "      <td>11.0</td>\n",
              "      <td>-1.826214</td>\n",
              "    </tr>\n",
              "    <tr>\n",
              "      <th>11</th>\n",
              "      <td>12.0</td>\n",
              "      <td>-1.804256</td>\n",
              "    </tr>\n",
              "    <tr>\n",
              "      <th>12</th>\n",
              "      <td>13.0</td>\n",
              "      <td>-1.744560</td>\n",
              "    </tr>\n",
              "    <tr>\n",
              "      <th>13</th>\n",
              "      <td>14.0</td>\n",
              "      <td>-1.694622</td>\n",
              "    </tr>\n",
              "    <tr>\n",
              "      <th>14</th>\n",
              "      <td>15.0</td>\n",
              "      <td>-1.648567</td>\n",
              "    </tr>\n",
              "    <tr>\n",
              "      <th>15</th>\n",
              "      <td>16.0</td>\n",
              "      <td>-1.633919</td>\n",
              "    </tr>\n",
              "    <tr>\n",
              "      <th>16</th>\n",
              "      <td>17.0</td>\n",
              "      <td>-1.607702</td>\n",
              "    </tr>\n",
              "    <tr>\n",
              "      <th>17</th>\n",
              "      <td>18.0</td>\n",
              "      <td>-1.604901</td>\n",
              "    </tr>\n",
              "    <tr>\n",
              "      <th>18</th>\n",
              "      <td>19.0</td>\n",
              "      <td>-1.554618</td>\n",
              "    </tr>\n",
              "  </tbody>\n",
              "</table>\n",
              "</div>\n",
              "      <button class=\"colab-df-convert\" onclick=\"convertToInteractive('df-e9b51471-e0a7-483d-adfd-e49dcb099044')\"\n",
              "              title=\"Convert this dataframe to an interactive table.\"\n",
              "              style=\"display:none;\">\n",
              "        \n",
              "  <svg xmlns=\"http://www.w3.org/2000/svg\" height=\"24px\"viewBox=\"0 0 24 24\"\n",
              "       width=\"24px\">\n",
              "    <path d=\"M0 0h24v24H0V0z\" fill=\"none\"/>\n",
              "    <path d=\"M18.56 5.44l.94 2.06.94-2.06 2.06-.94-2.06-.94-.94-2.06-.94 2.06-2.06.94zm-11 1L8.5 8.5l.94-2.06 2.06-.94-2.06-.94L8.5 2.5l-.94 2.06-2.06.94zm10 10l.94 2.06.94-2.06 2.06-.94-2.06-.94-.94-2.06-.94 2.06-2.06.94z\"/><path d=\"M17.41 7.96l-1.37-1.37c-.4-.4-.92-.59-1.43-.59-.52 0-1.04.2-1.43.59L10.3 9.45l-7.72 7.72c-.78.78-.78 2.05 0 2.83L4 21.41c.39.39.9.59 1.41.59.51 0 1.02-.2 1.41-.59l7.78-7.78 2.81-2.81c.8-.78.8-2.07 0-2.86zM5.41 20L4 18.59l7.72-7.72 1.47 1.35L5.41 20z\"/>\n",
              "  </svg>\n",
              "      </button>\n",
              "      \n",
              "  <style>\n",
              "    .colab-df-container {\n",
              "      display:flex;\n",
              "      flex-wrap:wrap;\n",
              "      gap: 12px;\n",
              "    }\n",
              "\n",
              "    .colab-df-convert {\n",
              "      background-color: #E8F0FE;\n",
              "      border: none;\n",
              "      border-radius: 50%;\n",
              "      cursor: pointer;\n",
              "      display: none;\n",
              "      fill: #1967D2;\n",
              "      height: 32px;\n",
              "      padding: 0 0 0 0;\n",
              "      width: 32px;\n",
              "    }\n",
              "\n",
              "    .colab-df-convert:hover {\n",
              "      background-color: #E2EBFA;\n",
              "      box-shadow: 0px 1px 2px rgba(60, 64, 67, 0.3), 0px 1px 3px 1px rgba(60, 64, 67, 0.15);\n",
              "      fill: #174EA6;\n",
              "    }\n",
              "\n",
              "    [theme=dark] .colab-df-convert {\n",
              "      background-color: #3B4455;\n",
              "      fill: #D2E3FC;\n",
              "    }\n",
              "\n",
              "    [theme=dark] .colab-df-convert:hover {\n",
              "      background-color: #434B5C;\n",
              "      box-shadow: 0px 1px 3px 1px rgba(0, 0, 0, 0.15);\n",
              "      filter: drop-shadow(0px 1px 2px rgba(0, 0, 0, 0.3));\n",
              "      fill: #FFFFFF;\n",
              "    }\n",
              "  </style>\n",
              "\n",
              "      <script>\n",
              "        const buttonEl =\n",
              "          document.querySelector('#df-e9b51471-e0a7-483d-adfd-e49dcb099044 button.colab-df-convert');\n",
              "        buttonEl.style.display =\n",
              "          google.colab.kernel.accessAllowed ? 'block' : 'none';\n",
              "\n",
              "        async function convertToInteractive(key) {\n",
              "          const element = document.querySelector('#df-e9b51471-e0a7-483d-adfd-e49dcb099044');\n",
              "          const dataTable =\n",
              "            await google.colab.kernel.invokeFunction('convertToInteractive',\n",
              "                                                     [key], {});\n",
              "          if (!dataTable) return;\n",
              "\n",
              "          const docLinkHtml = 'Like what you see? Visit the ' +\n",
              "            '<a target=\"_blank\" href=https://colab.research.google.com/notebooks/data_table.ipynb>data table notebook</a>'\n",
              "            + ' to learn more about interactive tables.';\n",
              "          element.innerHTML = '';\n",
              "          dataTable['output_type'] = 'display_data';\n",
              "          await google.colab.output.renderOutput(dataTable, element);\n",
              "          const docLink = document.createElement('div');\n",
              "          docLink.innerHTML = docLinkHtml;\n",
              "          element.appendChild(docLink);\n",
              "        }\n",
              "      </script>\n",
              "    </div>\n",
              "  </div>\n",
              "  "
            ]
          },
          "metadata": {},
          "execution_count": 58
        }
      ]
    },
    {
      "cell_type": "code",
      "source": [
        "# Calculate the differences between consecutive gap values\n",
        "gap_differences = np.diff(gapdf['gap'])\n",
        "\n",
        "# Calculate the rate of change\n",
        "rate_of_change = np.divide(gap_differences, gapdf['gap'][:-1])\n",
        "\n",
        "# Plot the rate of change\n",
        "plt.plot(range(2, 20), rate_of_change, color='black', linestyle='dashed', label='Rate of Change')\n",
        "\n",
        "plt.xticks(range(2, 20))\n",
        "\n",
        "# Set the plot title and labels\n",
        "plt.title('Rate of Change of Gap Values')\n",
        "plt.xlabel('Number of Clusters')\n",
        "plt.ylabel('Rate of Change')\n",
        "\n",
        "# Display the plot\n",
        "plt.show()\n"
      ],
      "metadata": {
        "colab": {
          "base_uri": "https://localhost:8080/",
          "height": 472
        },
        "id": "Tc9WJyIFTD3U",
        "outputId": "e8bff597-00c5-47c8-897c-f793d1df117a"
      },
      "execution_count": 48,
      "outputs": [
        {
          "output_type": "display_data",
          "data": {
            "text/plain": [
              "<Figure size 640x480 with 1 Axes>"
            ],
            "image/png": "[encoded data removed]"
          },
          "metadata": {}
        }
      ]
    },
    {
      "cell_type": "code",
      "source": [],
      "metadata": {
        "id": "d_pexJHncj7r"
      },
      "execution_count": 48,
      "outputs": []
    }
  ],
  "metadata": {
    "hide_input": false,
    "kernelspec": {
      "display_name": "Python 3",
      "language": "python",
      "name": "python3"
    },
    "language_info": {
      "codemirror_mode": {
        "name": "ipython",
        "version": 3
      },
      "file_extension": ".py",
      "mimetype": "text/x-python",
      "name": "python",
      "nbconvert_exporter": "python",
      "pygments_lexer": "ipython3",
      "version": "3.7.6"
    },
    "colab": {
      "provenance": []
    }
  },
  "nbformat": 4,
  "nbformat_minor": 0
}